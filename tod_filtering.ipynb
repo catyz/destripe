{
 "cells": [
  {
   "cell_type": "code",
   "execution_count": 1,
   "id": "84b2c96e",
   "metadata": {},
   "outputs": [
    {
     "name": "stderr",
     "output_type": "stream",
     "text": [
      "\n",
      "WARNING: version mismatch between CFITSIO header (v4.000999999999999) and linked library (v4.01).\n",
      "\n",
      "\n",
      "WARNING: version mismatch between CFITSIO header (v4.000999999999999) and linked library (v4.01).\n",
      "\n",
      "\n",
      "WARNING: version mismatch between CFITSIO header (v4.000999999999999) and linked library (v4.01).\n",
      "\n"
     ]
    }
   ],
   "source": [
    "import numpy as np\n",
    "import healpy as hp\n",
    "import matplotlib.pyplot as plt\n",
    "import mylib\n",
    "import pymaster as nmt\n",
    "from importlib import reload\n",
    "from tqdm import tqdm"
   ]
  },
  {
   "cell_type": "code",
   "execution_count": 2,
   "id": "4065aba6",
   "metadata": {},
   "outputs": [],
   "source": [
    "nside = 512\n",
    "npix = 12*nside**2\n",
    "lmax = 3*nside-1\n",
    "bin_size = 20\n",
    "n_sims = 100\n",
    "poly_deg = 10"
   ]
  },
  {
   "cell_type": "code",
   "execution_count": 3,
   "id": "7d99e896",
   "metadata": {},
   "outputs": [
    {
     "name": "stderr",
     "output_type": "stream",
     "text": [
      "/tmp/ipykernel_42254/482350626.py:5: RuntimeWarning: invalid value encountered in true_divide\n",
      "  input_cls /= ell_input*(ell_input+1)/2/np.pi\n"
     ]
    }
   ],
   "source": [
    "reload(mylib)\n",
    "ell_input, TT, TE, EE, BB, PP = np.loadtxt('cl.txt', unpack=True)\n",
    "# input_cls = np.array([TT, EE, np.zeros_like(EE), TE]) #no BB\n",
    "input_cls = np.array([TT, EE, BB, TE]) \n",
    "input_cls /= ell_input*(ell_input+1)/2/np.pi \n",
    "for c in input_cls: c[0] = 0 \n",
    "input_cls = input_cls[:,:lmax+1]\n",
    "\n",
    "input_cls_noBB = np.copy(input_cls)\n",
    "input_cls_noBB[2] = np.zeros(lmax+1)\n",
    "\n",
    "input_cls_noEE = np.copy(input_cls)\n",
    "input_cls_noEE[1] = np.zeros(lmax+1)\n",
    "input_cls_noEE[3] = np.zeros(lmax+1)\n",
    "\n",
    "input_cls_onlyBB = np.copy(input_cls)\n",
    "input_cls_onlyBB[0] = np.zeros(lmax+1)\n",
    "input_cls_onlyBB[1] = np.zeros(lmax+1)\n",
    "input_cls_onlyBB[3] = np.zeros(lmax+1)\n",
    "\n",
    "ell_input = ell_input[:lmax+1]\n",
    "c2d = ell_input*(ell_input+1)/2/np.pi\n",
    "\n",
    "#Baseline/goal SAT 145 GHz. l_knee = 50/25, n= 3.3/2.1\n",
    "ground_P_noise_props = [0, 0, 0]\n",
    "# ground_P_noise_props = [3.3, 50, -3]\n",
    "Nl_P = mylib.get_Nl(ground_P_noise_props, lmax)\n",
    "ground_noise_cls = np.array([np.zeros(lmax+1), Nl_P, Nl_P, np.zeros(lmax+1)])\n",
    "\n",
    "#Planck Npipe2020 144ghz\n",
    "sat_T_noise_props = [0, 0, 0]\n",
    "sat_P_noise_props = [0, 0, 0]\n",
    "# sat_T_noise_props = [25, 50, -1.8]\n",
    "# sat_P_noise_props = [50, 20, -1.4]\n",
    "Nl_T = mylib.get_Nl(sat_T_noise_props, lmax)\n",
    "Nl_P = mylib.get_Nl(sat_P_noise_props, lmax)\n",
    "sat_noise_cls = np.array([Nl_T, Nl_P, Nl_P, np.zeros(lmax+1)])"
   ]
  },
  {
   "cell_type": "code",
   "execution_count": 4,
   "id": "c8fe20dd",
   "metadata": {},
   "outputs": [
    {
     "name": "stdout",
     "output_type": "stream",
     "text": [
      "7.317829132080078\n"
     ]
    },
    {
     "data": {
      "image/png": "[encoded data removed]",
      "text/plain": [
       "<Figure size 612x388.8 with 2 Axes>"
      ]
     },
     "metadata": {
      "needs_background": "light"
     },
     "output_type": "display_data"
    }
   ],
   "source": [
    "reload(mylib)\n",
    "mask = mylib.get_mask(nside)\n",
    "mask_apo = nmt.mask_apodization(mask, 6, apotype='C2')\n",
    "hp.mollview(mask_apo)\n",
    "fsky = len(mask_apo[(mask_apo!=0)])/npix\n",
    "w2 = np.sum(mask_apo**2)/np.sum(mask)\n",
    "w4 = np.sum(mask_apo**4)/np.sum(mask)\n",
    "print(fsky *100)\n",
    "pix = mylib.mask2pix(mask)"
   ]
  },
  {
   "cell_type": "code",
   "execution_count": 5,
   "id": "9d4eb910",
   "metadata": {},
   "outputs": [],
   "source": [
    "reload(mylib)\n",
    "sigmab = hp.nside2resol(nside)\n",
    "fwhm = mylib.sigma2fwhm(sigmab)\n",
    "bl = mylib.get_bl(nside)\n",
    "b = nmt.NmtBin.from_nside_linear(nside, bin_size)\n",
    "ells = b.get_effective_ells()\n",
    "c2db = ells * (ells+1) /2/np.pi\n",
    "mll,_ = mylib.get_mll(mask_apo, nside, b, pol=False)"
   ]
  },
  {
   "cell_type": "code",
   "execution_count": 6,
   "id": "1434c436",
   "metadata": {},
   "outputs": [
    {
     "name": "stderr",
     "output_type": "stream",
     "text": [
      "100%|█████████████████████████████████████████| 100/100 [06:29<00:00,  3.89s/it]\n"
     ]
    }
   ],
   "source": [
    "#BB Filter transfer\n",
    "reload(mylib)\n",
    "pcl_bb_vec = np.empty((n_sims, lmax+1))\n",
    "# cl_input_vec = np.empty((n_sims, lmax+1))\n",
    "\n",
    "for i in tqdm(range(n_sims)):\n",
    "    np.random.seed(i+1000)\n",
    "    input_map = hp.synfast(input_cls_onlyBB, nside, fwhm=fwhm, new=True)\n",
    "    filtered_input_map = mask_apo * mylib.tod_filter(input_map, pix, deg=poly_deg)\n",
    "    pcl_bb_vec[i] = hp.anafast(filtered_input_map)[2]\n",
    "#     cl_input_vec[i] = hp.anafast(input_map)/bl**2\n",
    "    \n",
    "# cl_input = np.mean(cl_input_vec, axis=0)\n",
    "pcl_bb = np.mean(pcl_bb_vec, axis=0)"
   ]
  },
  {
   "cell_type": "code",
   "execution_count": 7,
   "id": "1600a83f",
   "metadata": {},
   "outputs": [],
   "source": [
    "reload(mylib)\n",
    "# fl_bb = mylib.get_fl(input_cls[2], cl_input, pcl_bb, bl, mll, fsky*w2)\n",
    "fl_bb = mylib.get_fl(input_cls[2], pcl_bb, bl, mll)"
   ]
  },
  {
   "cell_type": "code",
   "execution_count": 8,
   "id": "a53edae3",
   "metadata": {},
   "outputs": [
    {
     "data": {
      "image/png": "[encoded data removed]",
      "text/plain": [
       "<Figure size 432x288 with 1 Axes>"
      ]
     },
     "metadata": {
      "needs_background": "light"
     },
     "output_type": "display_data"
    }
   ],
   "source": [
    "plt.plot(fl_bb)\n",
    "plt.xlim([10, 600])\n",
    "plt.ylim([0, 1])\n",
    "plt.grid()"
   ]
  },
  {
   "cell_type": "code",
   "execution_count": 9,
   "id": "a38ca418",
   "metadata": {},
   "outputs": [],
   "source": [
    "w_KS = nmt.NmtWorkspace()\n",
    "f_KS = nmt.NmtField(mask_apo, np.empty((2, npix)), beam=bl*np.sqrt(fl_bb), purify_b=True)\n",
    "w_KS.compute_coupling_matrix(f_KS, f_KS, b)\n",
    "\n",
    "# w_PCL = nmt.NmtWorkspace()\n",
    "# f_PCL = nmt.NmtField(mask_apo, np.empty((2, npix)), beam=bl*np.sqrt(fl_bb), purify_b=False)\n",
    "# w_PCL.compute_coupling_matrix(f_PCL, f_PCL, b)\n",
    "\n",
    "w_comb = nmt.NmtWorkspace()\n",
    "f_comb = nmt.NmtField(mask_apo, np.empty((1, npix)), beam=bl*np.sqrt(fl_bb))\n",
    "w_comb.compute_coupling_matrix(f_comb, f_comb, b)"
   ]
  },
  {
   "cell_type": "code",
   "execution_count": 10,
   "id": "07d48e64",
   "metadata": {},
   "outputs": [
    {
     "name": "stderr",
     "output_type": "stream",
     "text": [
      "/tmp/ipykernel_42254/3576750824.py:8: RuntimeWarning: divide by zero encountered in true_divide\n",
      "  knox = (input_cls[2] + ground_noise_cls[2]/bl**2) * np.sqrt(2/nu_l)\n",
      "/tmp/ipykernel_42254/3576750824.py:8: RuntimeWarning: invalid value encountered in multiply\n",
      "  knox = (input_cls[2] + ground_noise_cls[2]/bl**2) * np.sqrt(2/nu_l)\n"
     ]
    }
   ],
   "source": [
    "masked_ground_noise_cls = fl_bb*mll @ ground_noise_cls[2]\n",
    "masked_ground_noise_cls_pol = np.array([fl_bb*mll@ground_noise_cls[1], np.zeros(lmax+1), np.zeros(lmax+1), fl_bb*mll@ground_noise_cls[2]])\n",
    "# masked_ground_noise_cls_pol = (w_PCL.get_coupling_matrix() @ np.concatenate(np.array([ground_noise_cls[1], np.zeros(lmax+1), np.zeros(lmax+1), ground_noise_cls[2]]))).reshape(4, lmax+1)\n",
    "\n",
    "#Knox formula\n",
    "bpw = w_comb.get_bandpower_windows()[0,:,0]\n",
    "nu_l = (2*np.arange(lmax+1)+1)*fsky*w2**2/w4*bin_size*fl_bb\n",
    "knox = (input_cls[2] + ground_noise_cls[2]/bl**2) * np.sqrt(2/nu_l)\n",
    "knox[0:2] = 0"
   ]
  },
  {
   "cell_type": "code",
   "execution_count": null,
   "id": "b2e8b3fc",
   "metadata": {},
   "outputs": [
    {
     "name": "stderr",
     "output_type": "stream",
     "text": [
      "  0%|                                                   | 0/100 [00:00<?, ?it/s]/scratch/yuyang/destripe/mylib.py:54: RuntimeWarning: invalid value encountered in true_divide\n",
      "  W_11 = (signal_cl[1] * full_cl[0] - signal_cl[3]*full_cl[3]) / (full_cl[1] * full_cl[0] - full_cl[3]**2)\n",
      "/scratch/yuyang/destripe/mylib.py:55: RuntimeWarning: invalid value encountered in true_divide\n",
      "  W_01 = (signal_cl[3] * full_cl[1] - signal_cl[1]*full_cl[3]) / (full_cl[1] * full_cl[0] - full_cl[3]**2)\n",
      "  3%|█▎                                         | 3/100 [01:08<37:08, 22.97s/it]"
     ]
    }
   ],
   "source": [
    "reload(mylib)\n",
    "# cl_PCL = np.empty((n_sims, len(ells)))\n",
    "cl_KS = np.empty((n_sims, len(ells)))\n",
    "cl_restore_ext = np.empty((n_sims, len(ells)))\n",
    "cl_KS_restore_patch = np.empty((n_sims, len(ells)))\n",
    "cl_restore_both = np.empty((n_sims, len(ells)))\n",
    "\n",
    "for i in tqdm(range(n_sims)):\n",
    "    np.random.seed(i)\n",
    "    input_map = hp.synfast(input_cls, nside, fwhm=fwhm, new=True)\n",
    "    ground_noise = hp.synfast(ground_noise_cls, nside, new=True)\n",
    "\n",
    "    ground_map = input_map + ground_noise\n",
    "    filtered_ground_map = mylib.tod_filter(ground_map, pix, deg=poly_deg)\n",
    "    \n",
    "    sat_noise = hp.synfast(sat_noise_cls, nside, new=True)\n",
    "    sat_map = input_map + sat_noise    \n",
    "\n",
    "    wienered_sat_map = mylib.wiener_filter(sat_map, input_cls, sat_noise_cls)\n",
    "    restored_map_ext = mask*filtered_ground_map + (1-mask)*wienered_sat_map\n",
    "    B_map_ext = hp.alm2map(hp.map2alm(restored_map_ext)[2], nside)\n",
    "    \n",
    "    lost_map = wienered_sat_map - mylib.tod_filter(wienered_sat_map, pix, deg=poly_deg)\n",
    "    restored_map_both = filtered_ground_map + lost_map\n",
    "    B_map_both = hp.alm2map(hp.map2alm(restored_map_both)[2], nside)\n",
    "\n",
    "#     f_PCL = nmt.NmtField(mask_apo, mask*[filtered_ground_map[1], filtered_ground_map[2]], purify_b=False)\n",
    "    f_KS = nmt.NmtField(mask_apo, mask*[filtered_ground_map[1], filtered_ground_map[2]], purify_b=True)\n",
    "    f_restore_ext = nmt.NmtField(mask_apo, mask*[B_map_ext])\n",
    "    f_KS_restore_patch = nmt.NmtField(mask_apo, mask*[restored_map_both[1], restored_map_both[2]], purify_b=True)\n",
    "    f_restore_both = nmt.NmtField(mask_apo, mask*[B_map_both])\n",
    "    \n",
    "#     cl_PCL[i] = nmt.compute_full_master(f_PCL, f_PCL, b, masked_ground_noise_cls_pol, workspace=w_PCL)[3]\n",
    "    cl_KS[i] = nmt.compute_full_master(f_KS, f_KS, b, masked_ground_noise_cls_pol, workspace=w_KS)[3]\n",
    "    cl_restore_ext[i] = nmt.compute_full_master(f_restore_ext, f_restore_ext, b, [masked_ground_noise_cls], workspace=w_comb)[0]\n",
    "    cl_KS_restore_patch[i] = nmt.compute_full_master(f_KS_restore_patch, f_KS_restore_patch, b, masked_ground_noise_cls_pol, workspace=w_KS)[3]\n",
    "    cl_restore_both[i] = nmt.compute_full_master(f_restore_both, f_restore_both, b, [masked_ground_noise_cls], workspace=w_comb)[0]\n",
    "    \n",
    "# mean_PCL = c2db*np.mean(cl_PCL, axis=0)\n",
    "# std_PCL = c2db*np.std(cl_PCL, axis=0)\n",
    "\n",
    "mean_KS = c2db*np.mean(cl_KS, axis=0)\n",
    "std_KS = c2db*np.std(cl_KS, axis=0)\n",
    "\n",
    "mean_restore_ext = c2db*np.mean(cl_restore_ext, axis=0)\n",
    "std_restore_ext = c2db*np.std(cl_restore_ext, axis=0)\n",
    "\n",
    "mean_KS_restore_patch = c2db*np.mean(cl_KS_restore_patch, axis=0)\n",
    "std_KS_restore_patch = c2db*np.std(cl_KS_restore_patch, axis=0)\n",
    "\n",
    "mean_restore_both = c2db*np.mean(cl_restore_both, axis=0)\n",
    "std_restore_both = c2db*np.std(cl_restore_both, axis=0)"
   ]
  },
  {
   "cell_type": "code",
   "execution_count": null,
   "id": "9534e0db",
   "metadata": {},
   "outputs": [],
   "source": []
  },
  {
   "cell_type": "code",
   "execution_count": null,
   "id": "a6f2d4e2",
   "metadata": {},
   "outputs": [],
   "source": []
  },
  {
   "cell_type": "code",
   "execution_count": null,
   "id": "1b664366",
   "metadata": {},
   "outputs": [],
   "source": [
    "# input_map = hp.synfast(input_cls, nside, fwhm=fwhm, new=True)\n",
    "\n",
    "# filtered_map = mylib.tod_filter(input_map, pix, deg=poly_deg)\n",
    "\n",
    "# # sat_map = mylib.remove_almB(input_map)\n",
    "# restored_map_ext = mask*input_map + (1-mask)*input_map\n",
    "# B_map_ext = hp.alm2map(hp.map2alm(restored_map_ext)[2], nside)\n",
    "\n",
    "# lost_map = input_map - mylib.tod_filter(input_map, pix, deg=poly_deg)\n",
    "# restored_map_both = filtered_ground_map + lost_map\n",
    "# B_map_both = hp.alm2map(hp.map2alm(restored_map_both)[2], nside)"
   ]
  },
  {
   "cell_type": "code",
   "execution_count": null,
   "id": "441ec720",
   "metadata": {},
   "outputs": [],
   "source": []
  },
  {
   "cell_type": "code",
   "execution_count": null,
   "id": "ada389a2",
   "metadata": {},
   "outputs": [],
   "source": []
  },
  {
   "cell_type": "code",
   "execution_count": null,
   "id": "e747337b",
   "metadata": {},
   "outputs": [],
   "source": []
  },
  {
   "cell_type": "code",
   "execution_count": null,
   "id": "a5686edb",
   "metadata": {},
   "outputs": [],
   "source": [
    "fig, axes = plt.subplots(1, 2, figsize=(15, 5))\n",
    "\n",
    "# axes[0].errorbar(ells, mean_PCL, yerr=std_PCL, fmt='.', label='PCL')\n",
    "axes[0].errorbar(ells, mean_KS, yerr=std_KS, fmt='.', label='KS')\n",
    "axes[0].errorbar(ells, mean_restore_ext, yerr=std_restore_ext, fmt='.', label='restore external')\n",
    "axes[0].errorbar(ells, mean_KS_restore_patch, yerr=std_KS_restore_patch, fmt='.', label='KS + restore patch')\n",
    "axes[0].errorbar(ells, mean_restore_both, yerr=std_restore_both, fmt='.', label='restore both')\n",
    "\n",
    "axes[0].plot(c2d*masked_ground_noise_cls, linestyle='dashed', label=f'masked ground BB noise {ground_P_noise_props}')\n",
    "axes[0].plot(c2d*sat_noise_cls[0], linestyle='dashed', label=f'sat T noise {sat_T_noise_props}')\n",
    "axes[0].plot(c2d*sat_noise_cls[1], linestyle='dashed', label=f'sat P noise {sat_P_noise_props}')\n",
    "axes[0].plot(c2d*input_cls[2], label='input BB')\n",
    "axes[0].set_title('BB')\n",
    "\n",
    "# axes[1].plot(ells, std_PCL, marker='.', label='PCL')\n",
    "axes[1].plot(ells, std_KS, marker='.', label='KS')\n",
    "axes[1].plot(ells, std_restore_ext, marker='.',label='restore external')\n",
    "axes[1].plot(ells, std_KS_restore_patch, marker='.', label='KS + restore patch')\n",
    "axes[1].plot(ells, std_restore_both, marker='.',label='restore both')\n",
    "\n",
    "axes[1].plot(ells, c2db*(bpw@knox), label='knox')\n",
    "axes[1].set_title('std(BB)')\n",
    "axes[1].set_ylim([1e-5,1e0])\n",
    "\n",
    "for ax in axes.flatten():\n",
    "    ax.legend()\n",
    "    ax.set_xlim([10,600])\n",
    "    ax.loglog()\n",
    "    ax.grid()\n",
    "    ax.set_xlabel('ell')\n",
    "    ax.set_ylabel('D_ell')"
   ]
  },
  {
   "cell_type": "code",
   "execution_count": null,
   "id": "269e8a8a",
   "metadata": {},
   "outputs": [],
   "source": []
  }
 ],
 "metadata": {
  "kernelspec": {
   "display_name": "Python 3 (ipykernel)",
   "language": "python",
   "name": "python3"
  },
  "language_info": {
   "codemirror_mode": {
    "name": "ipython",
    "version": 3
   },
   "file_extension": ".py",
   "mimetype": "text/x-python",
   "name": "python",
   "nbconvert_exporter": "python",
   "pygments_lexer": "ipython3",
   "version": "3.8.5"
  }
 },
 "nbformat": 4,
 "nbformat_minor": 5
}
