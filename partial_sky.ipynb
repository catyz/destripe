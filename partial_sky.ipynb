{
 "cells": [
  {
   "cell_type": "code",
   "execution_count": 1,
   "id": "7d2945fe",
   "metadata": {},
   "outputs": [
    {
     "name": "stderr",
     "output_type": "stream",
     "text": [
      "\n",
      "WARNING: version mismatch between CFITSIO header (v4.000999999999999) and linked library (v4.01).\n",
      "\n",
      "\n",
      "WARNING: version mismatch between CFITSIO header (v4.000999999999999) and linked library (v4.01).\n",
      "\n",
      "\n",
      "WARNING: version mismatch between CFITSIO header (v4.000999999999999) and linked library (v4.01).\n",
      "\n"
     ]
    }
   ],
   "source": [
    "import numpy as np\n",
    "import healpy as hp\n",
    "import matplotlib.pyplot as plt\n",
    "import mylib\n",
    "import pymaster as nmt\n",
    "from importlib import reload\n",
    "from tqdm import tqdm"
   ]
  },
  {
   "cell_type": "code",
   "execution_count": 2,
   "id": "c2aee744",
   "metadata": {},
   "outputs": [],
   "source": [
    "nside = 512\n",
    "npix = 12*nside**2\n",
    "lmax = 3*nside-1\n",
    "bin_size = 64"
   ]
  },
  {
   "cell_type": "code",
   "execution_count": 3,
   "id": "000fbec5",
   "metadata": {},
   "outputs": [
    {
     "name": "stderr",
     "output_type": "stream",
     "text": [
      "/tmp/ipykernel_20705/922836360.py:5: RuntimeWarning: invalid value encountered in true_divide\n",
      "  input_cls /= ell_input*(ell_input+1)/2/np.pi\n"
     ]
    }
   ],
   "source": [
    "reload(mylib)\n",
    "ell_input, TT, TE, EE, BB, PP = np.loadtxt('cl.txt', unpack=True)\n",
    "# input_cls = np.array([TT, EE, np.zeros_like(EE), TE]) #no BB\n",
    "input_cls = np.array([TT, EE, BB, TE]) \n",
    "input_cls /= ell_input*(ell_input+1)/2/np.pi \n",
    "for c in input_cls: c[0] = 0 \n",
    "input_cls = input_cls[:,:lmax+1]\n",
    "input_cls_noBB = np.copy(input_cls)\n",
    "input_cls_noBB[2] = np.zeros(lmax+1)\n",
    "ell_input = ell_input[:lmax+1]\n",
    "c2d = ell_input*(ell_input+1)/2/np.pi\n",
    "\n",
    "#Baseline/goal SAT 145 GHz. l_knee = 50/25, n= 3.3/2.1\n",
    "# Nl_P = mylib.get_Nl(3.3, 50, -3, lmax)\n",
    "\n",
    "Nl_P = mylib.get_Nl(10, 0, 0, lmax)\n",
    "\n",
    "ground_noise_cls = np.array([np.zeros(lmax+1), Nl_P, Nl_P, np.zeros(lmax+1)])\n",
    "# ground_noise_cls = np.array([np.zeros(lmax+1), Nl_P, np.zeros(lmax+1), np.zeros(lmax+1)])\n",
    "\n",
    "#Planck Npipe2020\n",
    "# Nl_T = mylib.get_Nl(30, 50, -1.8, lmax)\n",
    "# Nl_P = mylib.get_Nl(60, 20, -1.4, lmax)\n",
    "\n",
    "Nl_T = mylib.get_Nl(25, 0, 0, lmax)\n",
    "Nl_P = mylib.get_Nl(50, 0, 0, lmax)\n",
    "\n",
    "sat_noise_cls = np.array([Nl_T, Nl_P, Nl_P, np.zeros(lmax+1)])"
   ]
  },
  {
   "cell_type": "code",
   "execution_count": 4,
   "id": "36dfed0e",
   "metadata": {},
   "outputs": [
    {
     "name": "stdout",
     "output_type": "stream",
     "text": [
      "7.317829132080078\n"
     ]
    },
    {
     "data": {
      "image/png": "[encoded data removed]",
      "text/plain": [
       "<Figure size 612x388.8 with 2 Axes>"
      ]
     },
     "metadata": {
      "needs_background": "light"
     },
     "output_type": "display_data"
    }
   ],
   "source": [
    "reload(mylib)\n",
    "mask = mylib.get_mask(nside)\n",
    "mask_apo = nmt.mask_apodization(mask, 6, apotype='C2')\n",
    "hp.mollview(mask_apo)\n",
    "fsky = len(mask_apo[(mask_apo!=0)])/npix\n",
    "print(fsky *100)"
   ]
  },
  {
   "cell_type": "code",
   "execution_count": 5,
   "id": "2ce3f12a",
   "metadata": {},
   "outputs": [],
   "source": [
    "reload(mylib)\n",
    "sigmab = hp.nside2resol(nside)\n",
    "fwhm = mylib.sigma2fwhm(sigmab)\n",
    "bl = mylib.get_bl(nside)\n",
    "b = nmt.NmtBin.from_nside_linear(nside, bin_size)\n",
    "ells = b.get_effective_ells()\n",
    "c2db = ells * (ells+1) /2/np.pi\n",
    "\n",
    "w_KS = nmt.NmtWorkspace()\n",
    "f_KS = nmt.NmtField(mask_apo, np.empty((2, npix)), beam=bl, purify_b=True)\n",
    "w_KS.compute_coupling_matrix(f_KS, f_KS, b)\n",
    "\n",
    "w_PCL = nmt.NmtWorkspace()\n",
    "f_PCL = nmt.NmtField(mask_apo, np.empty((2, npix)), beam=bl, purify_b=False)\n",
    "w_PCL.compute_coupling_matrix(f_PCL, f_PCL, b)\n",
    "\n",
    "w_comb = nmt.NmtWorkspace()\n",
    "f_comb = nmt.NmtField(mask_apo, np.empty((1, npix)), beam=bl)\n",
    "w_comb.compute_coupling_matrix(f_comb, f_comb, b)\n",
    "\n",
    "masked_ground_noise_cls_pol = (w_PCL.get_coupling_matrix() @ np.concatenate(np.array([ground_noise_cls[1], np.zeros(lmax+1), np.zeros(lmax+1), ground_noise_cls[2]]))).reshape(4, lmax+1)\n",
    "masked_ground_noise_cls = w_comb.get_coupling_matrix() @ ground_noise_cls[2]"
   ]
  },
  {
   "cell_type": "code",
   "execution_count": null,
   "id": "22697ea5",
   "metadata": {},
   "outputs": [
    {
     "name": "stderr",
     "output_type": "stream",
     "text": [
      "  0%|                                                           | 0/100 [00:00<?, ?it/s]/scratch/yuyang/destripe/mylib.py:43: RuntimeWarning: invalid value encountered in true_divide\n",
      "  W_11 = (signal_cl[1] * full_cl[0] - signal_cl[3]*full_cl[3]) / (full_cl[1] * full_cl[0] - full_cl[3]**2)\n",
      "/scratch/yuyang/destripe/mylib.py:44: RuntimeWarning: invalid value encountered in true_divide\n",
      "  W_01 = (signal_cl[3] * full_cl[1] - signal_cl[1]*full_cl[3]) / (full_cl[1] * full_cl[0] - full_cl[3]**2)\n",
      " 12%|██████                                            | 12/100 [02:34<18:46, 12.80s/it]"
     ]
    }
   ],
   "source": [
    "n_sims = 100\n",
    "\n",
    "cl_KS = np.empty((n_sims, len(ells)))\n",
    "cl_PCL = np.empty((n_sims, len(ells)))\n",
    "cl_comb = np.empty((n_sims, len(ells)))\n",
    "\n",
    "for i in tqdm(range(n_sims)):\n",
    "    input_map = hp.synfast(input_cls, nside, fwhm=fwhm, new=True)\n",
    "    ground_noise = hp.synfast(ground_noise_cls, nside, new=True)\n",
    "    sat_noise = hp.synfast(sat_noise_cls, nside, new=True)\n",
    "\n",
    "    ground_map = input_map + ground_noise\n",
    "    sat_map = input_map + sat_noise\n",
    "    wienered_sat_map = mylib.wiener_filter(sat_map, input_cls, sat_noise_cls)\n",
    "    comb_map = mask*ground_map + (1-mask)*wienered_sat_map\n",
    "    B_map = hp.alm2map(hp.map2alm(comb_map)[2], nside)\n",
    "\n",
    "    f_KS = nmt.NmtField(mask_apo, [ground_map[1], ground_map[2]], purify_b=True)\n",
    "    f_PCL = nmt.NmtField(mask_apo, [ground_map[1], ground_map[2]], purify_b=False)\n",
    "    f_comb = nmt.NmtField(mask_apo, [B_map])\n",
    "\n",
    "    cl_KS[i] = nmt.compute_full_master(f_KS, f_KS, b, masked_ground_noise_cls_pol, workspace=w_KS)[3]\n",
    "    cl_PCL[i] = nmt.compute_full_master(f_PCL, f_PCL, b, masked_ground_noise_cls_pol, workspace=w_PCL)[3]\n",
    "    cl_comb[i] = nmt.compute_full_master(f_comb, f_comb, b, [masked_ground_noise_cls], workspace=w_comb)[0]\n",
    "    \n",
    "mean_KS = c2db*np.mean(cl_KS, axis=0)\n",
    "std_KS = c2db*np.std(cl_KS, axis=0)\n",
    "\n",
    "mean_PCL = c2db*np.mean(cl_PCL, axis=0)\n",
    "std_PCL = c2db*np.std(cl_PCL, axis=0)\n",
    "\n",
    "mean_comb = c2db*np.mean(cl_comb, axis=0)\n",
    "std_comb = c2db*np.std(cl_comb, axis=0)"
   ]
  },
  {
   "cell_type": "code",
   "execution_count": null,
   "id": "a883c5d0",
   "metadata": {},
   "outputs": [],
   "source": [
    "#Knox formula\n",
    "bpw = w_PCL.get_bandpower_windows()[3,:,3]\n",
    "w2 = np.sum(mask_apo**2)/np.sum(mask)\n",
    "w4 = np.sum(mask_apo**4)/np.sum(mask)\n",
    "nu_l = (2*np.arange(lmax+1)+1)*fsky*w2**2/w4*bin_size\n",
    "\n",
    "knox = bpw @ (((input_cls[2] + ground_noise_cls[2]/bl**2)) * np.sqrt(2/nu_l))"
   ]
  },
  {
   "cell_type": "code",
   "execution_count": null,
   "id": "86d52fe1",
   "metadata": {},
   "outputs": [],
   "source": [
    "fig, axes = plt.subplots(1, 2, figsize=(15, 5))\n",
    "\n",
    "axes[0].errorbar(ells, mean_KS, yerr=std_KS, fmt='.', label='KS')\n",
    "axes[0].errorbar(ells, mean_PCL, yerr=std_PCL, fmt='.', label='PCL')\n",
    "axes[0].errorbar(ells, mean_comb, yerr=std_comb, fmt='.', label='comb')\n",
    "axes[0].plot(c2d*masked_ground_noise_cls, linestyle='dashed', label='noise')\n",
    "axes[0].plot(BB, label='BB (lensed r=0.1)')\n",
    "\n",
    "axes[1].plot(ells, std_KS, marker='.', label='KS')\n",
    "axes[1].plot(ells, std_PCL, marker='.', label='PCL')\n",
    "axes[1].plot(ells, std_comb, marker='.',label='comb')\n",
    "axes[1].plot(ells, c2db*knox, label='Knox')\n",
    "\n",
    "for ax in axes.flatten():\n",
    "    ax.legend()\n",
    "    ax.set_xlim([20,2*nside])\n",
    "    ax.loglog()\n",
    "    ax.grid()"
   ]
  },
  {
   "cell_type": "code",
   "execution_count": null,
   "id": "a00c7af1",
   "metadata": {},
   "outputs": [],
   "source": []
  }
 ],
 "metadata": {
  "kernelspec": {
   "display_name": "Python 3 (ipykernel)",
   "language": "python",
   "name": "python3"
  },
  "language_info": {
   "codemirror_mode": {
    "name": "ipython",
    "version": 3
   },
   "file_extension": ".py",
   "mimetype": "text/x-python",
   "name": "python",
   "nbconvert_exporter": "python",
   "pygments_lexer": "ipython3",
   "version": "3.8.5"
  }
 },
 "nbformat": 4,
 "nbformat_minor": 5
}
