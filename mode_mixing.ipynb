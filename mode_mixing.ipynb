{
 "cells": [
  {
   "cell_type": "code",
   "execution_count": 5,
   "id": "332eb799",
   "metadata": {},
   "outputs": [],
   "source": [
    "import numpy as np\n",
    "import healpy as hp\n",
    "import matplotlib.pyplot as plt\n",
    "import methods\n",
    "import pymaster as nmt\n",
    "from importlib import reload\n",
    "from tqdm import tqdm\n",
    "from scipy.linalg import block_diag"
   ]
  },
  {
   "cell_type": "code",
   "execution_count": 6,
   "id": "12bc07d0",
   "metadata": {},
   "outputs": [],
   "source": [
    "nside = 512\n",
    "npix = 12*nside**2\n",
    "lmax = 3*nside-1"
   ]
  },
  {
   "cell_type": "code",
   "execution_count": 7,
   "id": "7a19161e",
   "metadata": {},
   "outputs": [
    {
     "name": "stderr",
     "output_type": "stream",
     "text": [
      "/tmp/ipykernel_30314/1896370247.py:5: RuntimeWarning: invalid value encountered in true_divide\n",
      "  input_cls /= ell_input*(ell_input+1)/2/np.pi\n"
     ]
    }
   ],
   "source": [
    "reload(methods)\n",
    "ell_input, TT, TE, EE, BB, PP = np.loadtxt('cl.txt', unpack=True)\n",
    "# input_cls = np.array([TT, EE, np.zeros_like(EE), TE]) #no BB\n",
    "input_cls = np.array([TT, EE, BB, TE]) \n",
    "input_cls /= ell_input*(ell_input+1)/2/np.pi \n",
    "for c in input_cls: c[0] = 0 \n",
    "input_cls = input_cls[:,:lmax+1]\n",
    "ell_input = ell_input[:lmax+1]\n",
    "c2d = ell_input*(ell_input+1)/2/np.pi"
   ]
  },
  {
   "cell_type": "code",
   "execution_count": 8,
   "id": "ff166349",
   "metadata": {},
   "outputs": [
    {
     "name": "stdout",
     "output_type": "stream",
     "text": [
      "7.317829132080078\n"
     ]
    },
    {
     "data": {
      "image/png": "[encoded data removed]",
      "text/plain": [
       "<Figure size 612x388.8 with 2 Axes>"
      ]
     },
     "metadata": {
      "needs_background": "light"
     },
     "output_type": "display_data"
    }
   ],
   "source": [
    "reload(methods)\n",
    "mask = methods.get_mask(nside)\n",
    "mask_apo = nmt.mask_apodization(mask, 6, apotype='C2')\n",
    "hp.mollview(mask_apo)\n",
    "print(len(mask_apo[(mask_apo!=0)])/npix *100)"
   ]
  },
  {
   "cell_type": "code",
   "execution_count": 120,
   "id": "2d17eab1",
   "metadata": {},
   "outputs": [],
   "source": [
    "reload(methods)\n",
    "sigmab = hp.nside2resol(nside)\n",
    "fwhm = methods.sigma2fwhm(sigmab)\n",
    "bl = methods.get_bl(nside)\n",
    "mll = methods.get_mll(mask_apo, nside, purify_b=True)\n",
    "# mll = methods.get_mll(mask_apo, nside, pol=False, purify_b=False)\n",
    "b = nmt.NmtBin.from_nside_linear(nside, 32)\n",
    "ells = b.get_effective_ells()\n",
    "P_bl = methods.get_P_bl(ells, nside)\n",
    "Q_lb = methods.get_Q_lb(ells, nside)\n",
    "c2db = ells * (ells+1) /2/np.pi"
   ]
  },
  {
   "cell_type": "code",
   "execution_count": 121,
   "id": "e53156ee",
   "metadata": {},
   "outputs": [],
   "source": [
    "input_map = hp.synfast(input_cls, nside, new=True)"
   ]
  },
  {
   "cell_type": "code",
   "execution_count": 122,
   "id": "00049730",
   "metadata": {},
   "outputs": [],
   "source": [
    "f = nmt.NmtField(mask_apo, mask*[input_map[1], input_map[2]], purify_b=True)\n",
    "cl_nmt = nmt.compute_full_master(f, f, b)"
   ]
  },
  {
   "cell_type": "code",
   "execution_count": 123,
   "id": "6da9aa39",
   "metadata": {},
   "outputs": [],
   "source": [
    "ana_input = hp.anafast(mask_apo * input_map)\n",
    "\n",
    "ana_vec = np.array([ana_input[1], ana_input[4], ana_input[4], ana_input[2]]).flatten()\n",
    "\n",
    "P_bl_block = block_diag(P_bl, P_bl, P_bl, P_bl)\n",
    "Q_lb_block = block_diag(Q_lb, Q_lb, Q_lb, Q_lb)\n",
    "\n",
    "K_bb_inv = np.linalg.inv(P_bl_block @ mll @ Q_lb_block)\n",
    "\n",
    "cl = (K_bb_inv @ P_bl_block @ ana_vec).reshape(4, len(ells))"
   ]
  },
  {
   "cell_type": "code",
   "execution_count": 127,
   "id": "ecaba65a",
   "metadata": {},
   "outputs": [
    {
     "data": {
      "text/plain": [
       "[]"
      ]
     },
     "execution_count": 127,
     "metadata": {},
     "output_type": "execute_result"
    },
    {
     "data": {
      "image/png": "[encoded data removed]",
      "text/plain": [
       "<Figure size 432x288 with 1 Axes>"
      ]
     },
     "metadata": {
      "needs_background": "light"
     },
     "output_type": "display_data"
    }
   ],
   "source": [
    "plt.plot(ells, c2db*cl[3])\n",
    "# plt.plot(ells, c2db*cl_nmt[3])\n",
    "plt.plot(BB)\n",
    "plt.loglog()"
   ]
  },
  {
   "cell_type": "code",
   "execution_count": null,
   "id": "44993aa8",
   "metadata": {},
   "outputs": [],
   "source": []
  }
 ],
 "metadata": {
  "kernelspec": {
   "display_name": "Python 3 (ipykernel)",
   "language": "python",
   "name": "python3"
  },
  "language_info": {
   "codemirror_mode": {
    "name": "ipython",
    "version": 3
   },
   "file_extension": ".py",
   "mimetype": "text/x-python",
   "name": "python",
   "nbconvert_exporter": "python",
   "pygments_lexer": "ipython3",
   "version": "3.8.5"
  }
 },
 "nbformat": 4,
 "nbformat_minor": 5
}
