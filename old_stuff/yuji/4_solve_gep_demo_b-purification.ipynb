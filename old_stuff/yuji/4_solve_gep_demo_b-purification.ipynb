{
 "cells": [
  {
   "cell_type": "markdown",
   "metadata": {},
   "source": [
    "# Solve Generalized Eigenvalue Problem of observed covariance"
   ]
  },
  {
   "cell_type": "code",
   "execution_count": 1,
   "metadata": {},
   "outputs": [],
   "source": [
    "import numpy as np\n",
    "import matplotlib.pyplot as plt"
   ]
  },
  {
   "cell_type": "markdown",
   "metadata": {},
   "source": [
    "## prepare covariances\n",
    "the same criterion of lambda is assumed as B2K"
   ]
  },
  {
   "cell_type": "code",
   "execution_count": 2,
   "metadata": {},
   "outputs": [],
   "source": [
    "LAMBDA = 0.98"
   ]
  },
  {
   "cell_type": "code",
   "execution_count": 3,
   "metadata": {},
   "outputs": [],
   "source": [
    "PREFIX = 'observed'"
   ]
  },
  {
   "cell_type": "code",
   "execution_count": 4,
   "metadata": {},
   "outputs": [],
   "source": [
    "nside = 64"
   ]
  },
  {
   "cell_type": "code",
   "execution_count": 5,
   "metadata": {},
   "outputs": [
    {
     "name": "stdout",
     "output_type": "stream",
     "text": [
      "CPU times: user 30 µs, sys: 1.24 s, total: 1.24 s\n",
      "Wall time: 1.24 s\n"
     ]
    }
   ],
   "source": [
    "%%time\n",
    "cov_bb = np.load('{:}_ana_cov_only_bb_nisde{:03d}.npy'.format(PREFIX,nside))\n",
    "cov_ee = np.load('{:}_ana_cov_only_ee_nisde{:03d}.npy'.format(PREFIX,nside))"
   ]
  },
  {
   "cell_type": "markdown",
   "metadata": {},
   "source": [
    "also the same sigma is assumed"
   ]
  },
  {
   "cell_type": "code",
   "execution_count": 6,
   "metadata": {},
   "outputs": [],
   "source": [
    "nums = cov_bb.shape[0]\n",
    "f_sigma = 0.01\n",
    "sigma2 = np.mean((cov_bb.diagonal()+cov_ee.diagonal())/2) * f_sigma"
   ]
  },
  {
   "cell_type": "code",
   "execution_count": 7,
   "metadata": {},
   "outputs": [
    {
     "data": {
      "text/plain": [
       "0.9233930054838947"
      ]
     },
     "execution_count": 7,
     "metadata": {},
     "output_type": "execute_result"
    }
   ],
   "source": [
    "len(np.nonzero(cov_bb)[0])/nums**2"
   ]
  },
  {
   "cell_type": "markdown",
   "metadata": {},
   "source": [
    "Unfortunately it is NOT a sparse matrix! It should be a parse matrix in the full sky, but it is not because the matrix is already an observed partial sky, I guess. "
   ]
  },
  {
   "cell_type": "markdown",
   "metadata": {},
   "source": [
    "## solve GEP\n",
    "Here eigh in scipy is used if no GPU supprted. Need better implementation for higher nside."
   ]
  },
  {
   "cell_type": "code",
   "execution_count": 8,
   "metadata": {},
   "outputs": [],
   "source": [
    "def get_cupy():\n",
    "    try:\n",
    "        import cupy as cp\n",
    "        pool = cp.cuda.MemoryPool(cp.cuda.malloc_managed)\n",
    "        cp.cuda.set_allocator(pool.malloc)\n",
    "        print('Now GPU is being used!')\n",
    "        return cp\n",
    "    except ImportError:\n",
    "        return False\n",
    "\n",
    "def GEP(A, B):\n",
    "    cp = get_cupy()\n",
    "    if cp:\n",
    "        # Reduce the problem to a standard symmetric eigenvalue problem\n",
    "        Linv = cp.linalg.inv(cp.linalg.cholesky(cp.asarray(B)))\n",
    "        lamda,V = cp.linalg.eigh(Linv @ cp.asarray(A) @ Linv.T)\n",
    "        return cp.asnumpy(lamda), cp.asnumpy(Linv.T @ V)\n",
    "    else:\n",
    "        # this could fail w/ nside>128?\n",
    "        from scipy.linalg import eigh\n",
    "        return eigh(A, B)"
   ]
  },
  {
   "cell_type": "code",
   "execution_count": 9,
   "metadata": {},
   "outputs": [
    {
     "name": "stdout",
     "output_type": "stream",
     "text": [
      "Now GPU is being used!\n",
      "CPU times: user 10.1 s, sys: 11.9 s, total: 22 s\n",
      "Wall time: 22 s\n"
     ]
    }
   ],
   "source": [
    "%%time\n",
    "eigvals, eigvecs = GEP(cov_bb + sigma2 * np.eye(nums), cov_ee + sigma2 * np.eye(nums))"
   ]
  },
  {
   "cell_type": "markdown",
   "metadata": {},
   "source": [
    "Note it takes 3 min w/ CPU for nside=64 using 96 threads (20 \"sec\" w/ GPU)."
   ]
  },
  {
   "cell_type": "code",
   "execution_count": 10,
   "metadata": {},
   "outputs": [],
   "source": [
    "norm_eigvecs = eigvecs/np.linalg.norm(eigvecs, axis=0, keepdims=True)"
   ]
  },
  {
   "cell_type": "markdown",
   "metadata": {},
   "source": [
    "## plot eigenvalues spectrum"
   ]
  },
  {
   "cell_type": "code",
   "execution_count": 11,
   "metadata": {},
   "outputs": [
    {
     "data": {
      "image/png": "[encoded data removed]",
      "text/plain": [
       "<Figure size 432x288 with 1 Axes>"
      ]
     },
     "metadata": {
      "needs_background": "light"
     },
     "output_type": "display_data"
    }
   ],
   "source": [
    "v = eigvals\n",
    "plt.plot(v, 'r-')\n",
    "plt.xlabel('Eigenmode sorted by eigenvalue')\n",
    "plt.ylabel('Eigenvalue')\n",
    "plt.yscale('log')\n",
    "\n",
    "ytics = []\n",
    "pmin = int(np.log10(np.min(v)))-1\n",
    "pmax = int(np.log10(np.max(v)))+1\n",
    "p = pmin\n",
    "while True:\n",
    "    ytics.append(10**p)\n",
    "    p += 1\n",
    "    if p > pmax:\n",
    "        break\n",
    "plt.yticks(ytics)\n",
    "plt.grid()"
   ]
  },
  {
   "cell_type": "markdown",
   "metadata": {},
   "source": [
    "## apply the criterion"
   ]
  },
  {
   "cell_type": "code",
   "execution_count": 12,
   "metadata": {},
   "outputs": [
    {
     "data": {
      "text/plain": [
       "(15256, 4388, 0.979968854044709, 1.0198430596994734)"
      ]
     },
     "execution_count": 12,
     "metadata": {},
     "output_type": "execute_result"
    }
   ],
   "source": [
    "lens = np.searchsorted(eigvals > LAMBDA, True)\n",
    "nums, lens, eigvals[:lens][-1], eigvals[-lens:][0]"
   ]
  },
  {
   "cell_type": "code",
   "execution_count": 13,
   "metadata": {},
   "outputs": [
    {
     "data": {
      "image/png": "[encoded data removed]",
      "text/plain": [
       "<Figure size 432x288 with 1 Axes>"
      ]
     },
     "metadata": {
      "needs_background": "light"
     },
     "output_type": "display_data"
    }
   ],
   "source": [
    "v = eigvals\n",
    "plt.plot(v[:lens], 'r-')\n",
    "plt.plot(v[-lens:], 'b-')\n",
    "plt.xlabel('Eigenmode sorted by eigenvalue')\n",
    "plt.ylabel('Eigenvalue')\n",
    "plt.yscale('log')\n",
    "plt.yticks(ytics)\n",
    "plt.grid()"
   ]
  },
  {
   "cell_type": "code",
   "execution_count": 14,
   "metadata": {},
   "outputs": [
    {
     "data": {
      "image/png": "[encoded data removed]",
      "text/plain": [
       "<Figure size 432x288 with 1 Axes>"
      ]
     },
     "metadata": {
      "needs_background": "light"
     },
     "output_type": "display_data"
    }
   ],
   "source": [
    "v = eigvals\n",
    "plt.plot(v, 'r-')\n",
    "plt.xlabel('Eigenmode sorted by eigenvalue')\n",
    "plt.ylabel('Eigenvalue')\n",
    "plt.yscale('log')\n",
    "\n",
    "ytics = []\n",
    "pmin = int(np.log10(np.min(v)))-1\n",
    "pmax = int(np.log10(np.max(v)))+1\n",
    "p = pmin\n",
    "while True:\n",
    "    ytics.append(10**p)\n",
    "    p += 1\n",
    "    if p > pmax:\n",
    "        break\n",
    "plt.yticks(ytics)\n",
    "plt.vlines(x=lens, ymin=10**pmin, ymax=10**pmax, ls='--', colors='black')\n",
    "plt.vlines(x=nums-lens, ymin=10**pmin, ymax=10**pmax, ls='--', colors='black', label='$\\lambda>{:.2f}$'.format(LAMBDA))\n",
    "plt.vlines(x=nums//4, ymin=10**pmin, ymax=10**pmax, ls='--', colors='gray')\n",
    "plt.vlines(x=3*nums//4, ymin=10**pmin, ymax=10**pmax, ls='--', colors='gray', label='one-quarter')\n",
    "plt.legend()\n",
    "plt.grid()"
   ]
  },
  {
   "cell_type": "code",
   "execution_count": 15,
   "metadata": {},
   "outputs": [
    {
     "data": {
      "text/plain": [
       "(15256, 3814, 0.9158954034088325, 1.0877816382794991)"
      ]
     },
     "execution_count": 15,
     "metadata": {},
     "output_type": "execute_result"
    }
   ],
   "source": [
    "# 1/4 criterion\n",
    "lens = nums // 4\n",
    "nums, lens, eigvals[:lens][-1], eigvals[-lens:][0]"
   ]
  },
  {
   "cell_type": "code",
   "execution_count": 16,
   "metadata": {},
   "outputs": [
    {
     "data": {
      "image/png": "[encoded data removed]",
      "text/plain": [
       "<Figure size 432x288 with 1 Axes>"
      ]
     },
     "metadata": {
      "needs_background": "light"
     },
     "output_type": "display_data"
    }
   ],
   "source": [
    "v = eigvals\n",
    "plt.plot(v[:lens], 'r-')\n",
    "plt.plot(v[-lens:], 'b-')\n",
    "plt.xlabel('Eigenmode sorted by eigenvalue')\n",
    "plt.ylabel('Eigenvalue')\n",
    "plt.yscale('log')\n",
    "plt.yticks(ytics)\n",
    "plt.grid()"
   ]
  },
  {
   "cell_type": "code",
   "execution_count": null,
   "metadata": {},
   "outputs": [],
   "source": []
  },
  {
   "cell_type": "code",
   "execution_count": 17,
   "metadata": {},
   "outputs": [
    {
     "name": "stdout",
     "output_type": "stream",
     "text": [
      "CPU times: user 2.75 s, sys: 1.65 s, total: 4.4 s\n",
      "Wall time: 4.39 s\n"
     ]
    }
   ],
   "source": [
    "%%time\n",
    "np.savez('{:}_eigen_spectrum_nside{:03d}'.format(PREFIX,nside),\n",
    "         eigvals=eigvals, eigvecs=eigvecs, norm_eigvecs=norm_eigvecs)"
   ]
  }
 ],
 "metadata": {
  "kernelspec": {
   "display_name": "Python 3",
   "language": "python",
   "name": "python3"
  },
  "language_info": {
   "codemirror_mode": {
    "name": "ipython",
    "version": 3
   },
   "file_extension": ".py",
   "mimetype": "text/x-python",
   "name": "python",
   "nbconvert_exporter": "python",
   "pygments_lexer": "ipython3",
   "version": "3.6.9"
  }
 },
 "nbformat": 4,
 "nbformat_minor": 4
}
