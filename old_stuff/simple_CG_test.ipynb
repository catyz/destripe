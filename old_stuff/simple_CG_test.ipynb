{
 "cells": [
  {
   "cell_type": "code",
   "execution_count": 7,
   "id": "5bf72073",
   "metadata": {},
   "outputs": [],
   "source": [
    "import numpy as np\n",
    "import healpy as hp;"
   ]
  },
  {
   "cell_type": "code",
   "execution_count": 65,
   "id": "8e72beb2",
   "metadata": {},
   "outputs": [
    {
     "data": {
      "text/plain": [
       "array([ 1.61404703, -7.58125635,  1.98689829])"
      ]
     },
     "execution_count": 65,
     "metadata": {},
     "output_type": "execute_result"
    }
   ],
   "source": [
    "rng = np.random.default_rng()\n",
    "A = rng.standard_normal((3,3))\n",
    "A = A.T @ A\n",
    "b = rng.standard_normal(3)\n",
    "x = np.linalg.solve(A, b)\n",
    "x"
   ]
  },
  {
   "cell_type": "code",
   "execution_count": 66,
   "id": "0656e071",
   "metadata": {},
   "outputs": [],
   "source": [
    "def simple_CG(A, b, tol=1e-10, max_iter=100):\n",
    "    x = np.zeros_like(b)\n",
    "    r = b-A@x\n",
    "    p = r\n",
    "    \n",
    "    for i in range(max_iter):\n",
    "        a = r.T @ r / (p.T @ A @ p)\n",
    "        x += a * p\n",
    "        r_new = r - a * A @ p\n",
    "        err = np.dot(r_new, r_new)\n",
    "        print(i, err)\n",
    "        if err < tol: break\n",
    "        B = r_new.T @ r_new / (r.T @ r)\n",
    "        p = r_new + B * p\n",
    "        r = r_new\n",
    "        \n",
    "    return x"
   ]
  },
  {
   "cell_type": "code",
   "execution_count": 67,
   "id": "e1330c09",
   "metadata": {},
   "outputs": [
    {
     "name": "stdout",
     "output_type": "stream",
     "text": [
      "0 0.34721373100779096\n",
      "1 0.44083485370427655\n",
      "2 1.9282181417541623e-27\n"
     ]
    },
    {
     "data": {
      "text/plain": [
       "array([ 1.61404703, -7.58125635,  1.98689829])"
      ]
     },
     "execution_count": 67,
     "metadata": {},
     "output_type": "execute_result"
    }
   ],
   "source": [
    "CG(A, b)"
   ]
  },
  {
   "cell_type": "code",
   "execution_count": null,
   "id": "1f12037e",
   "metadata": {},
   "outputs": [],
   "source": []
  }
 ],
 "metadata": {
  "kernelspec": {
   "display_name": "Python 3 (ipykernel)",
   "language": "python",
   "name": "python3"
  },
  "language_info": {
   "codemirror_mode": {
    "name": "ipython",
    "version": 3
   },
   "file_extension": ".py",
   "mimetype": "text/x-python",
   "name": "python",
   "nbconvert_exporter": "python",
   "pygments_lexer": "ipython3",
   "version": "3.8.5"
  }
 },
 "nbformat": 4,
 "nbformat_minor": 5
}
