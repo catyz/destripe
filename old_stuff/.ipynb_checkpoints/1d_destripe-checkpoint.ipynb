{
 "cells": [
  {
   "cell_type": "code",
   "execution_count": 1,
   "id": "147d2559",
   "metadata": {},
   "outputs": [],
   "source": [
    "import numpy as np\n",
    "import matplotlib.pyplot as plt\n",
    "from scipy.linalg import block_diag"
   ]
  },
  {
   "cell_type": "code",
   "execution_count": 2,
   "id": "2f2075b1",
   "metadata": {},
   "outputs": [],
   "source": [
    "rng = np.random.default_rng()\n",
    "nside = 2**7\n",
    "m = rng.standard_normal(size=(nside, nside)) #random values for pixelized map, m"
   ]
  },
  {
   "cell_type": "code",
   "execution_count": 3,
   "id": "272633cc",
   "metadata": {},
   "outputs": [],
   "source": [
    "# P = np.vstack([np.eye(len(m)), np.flip(np.eye(len(m))[:-1], axis=1)])\n",
    "# P_onepass = np.copy(P)\n",
    "\n",
    "# n_pass=0\n",
    "# for i in range(n_pass):\n",
    "#     P = np.vstack([P, P_onepass]) #pointing matrix that traverses the map n_pass times\n",
    "# P = np.vstack([P, np.vstack([np.eye(len(m)), np.flip(np.eye(len(m)), axis=1)])])\n",
    "\n",
    "# nsamp = P.shape[0]\n",
    "# nsamp"
   ]
  },
  {
   "cell_type": "code",
   "execution_count": 4,
   "id": "117a6829",
   "metadata": {},
   "outputs": [],
   "source": [
    "# P = np.vstack([np.eye(len(m)), np.flip(np.eye(len(m)), axis=1)])\n",
    "\n",
    "# nsamp = P.shape[0]\n",
    "# nsamp"
   ]
  },
  {
   "cell_type": "code",
   "execution_count": 5,
   "id": "9712c886",
   "metadata": {},
   "outputs": [],
   "source": [
    "# n_pass = 3\n",
    "\n",
    "# P = np.zeros((n_pass * len(m), len(m)))\n",
    "\n",
    "# for row in P:\n",
    "#     index = rng.integers(0, len(m))\n",
    "#     row[index] = 1\n",
    "    \n",
    "# P.shape"
   ]
  },
  {
   "cell_type": "code",
   "execution_count": 6,
   "id": "f94f1c31",
   "metadata": {},
   "outputs": [],
   "source": [
    "P_lr = block_diag(np.eye(nside), np.flip(np.eye(nside), axis=1))\n",
    "\n",
    "for i in range(6):\n",
    "    P_lr = block_diag(P_lr, P_lr)\n",
    "\n",
    "nsamp = P_lr.shape[0]"
   ]
  },
  {
   "cell_type": "code",
   "execution_count": 7,
   "id": "5018f468",
   "metadata": {},
   "outputs": [],
   "source": [
    "P_ud = np.zeros((nsamp, nsamp))\n",
    "\n",
    "for i, row in enumerate(P_ud):\n",
    "    chunk = i // nside\n",
    "    index = i * nside - (chunk * nside**2) + chunk\n",
    "    if chunk % 2:\n",
    "        step_size = chunk*nside-(i-nside+1)\n",
    "        index = nside * step_size + chunk\n",
    "    row[index]=1"
   ]
  },
  {
   "cell_type": "code",
   "execution_count": 8,
   "id": "9ce254fc",
   "metadata": {},
   "outputs": [],
   "source": [
    "P = np.vstack([P_lr, P_ud])\n",
    "nsamp = P.shape[0]"
   ]
  },
  {
   "cell_type": "code",
   "execution_count": 9,
   "id": "57c3a7df",
   "metadata": {},
   "outputs": [],
   "source": [
    "# dt= 0.1\n",
    "# fknee= 0.1\n",
    "# alpha= 3\n",
    "# sigma= 1\n",
    "\n",
    "# freq   = np.abs(np.fft.fftfreq(nsamp, dt))\n",
    "\n",
    "# noise_spec = (1+(np.maximum(freq,freq[1])/fknee)**-alpha)*sigma**2\n",
    "\n",
    "\n",
    "# plt.loglog(freq, noise_spec)\n",
    "# plt.title(\"noise power spectrum\")\n",
    "# plt.xlabel(\"frequency [Hz]\")\n",
    "# plt.ylabel(\"Noise amplitude [uK$^{2}$]\")"
   ]
  },
  {
   "cell_type": "code",
   "execution_count": 10,
   "id": "695c37f8",
   "metadata": {},
   "outputs": [],
   "source": [
    "# rand   = np.fft.fft(rng.standard_normal(nsamp))\n",
    "# fnoise = rand * noise_spec**0.5\n",
    "# n_corr = np.fft.ifft(fnoise).real\n",
    "\n",
    "# plt.plot(n_corr)"
   ]
  },
  {
   "cell_type": "code",
   "execution_count": 11,
   "id": "f2e61f93",
   "metadata": {},
   "outputs": [],
   "source": [
    "# n = rng.standard_normal(nsamp)"
   ]
  },
  {
   "cell_type": "code",
   "execution_count": 12,
   "id": "d07f1787",
   "metadata": {},
   "outputs": [],
   "source": [
    "x = np.linspace(0, 5 * np.pi, nsamp)\n",
    "n_corr = 2 * np.sin(2*x)"
   ]
  },
  {
   "cell_type": "code",
   "execution_count": 13,
   "id": "da412ed4",
   "metadata": {},
   "outputs": [],
   "source": [
    "m = m.flatten()\n",
    "y = P@m + n_corr"
   ]
  },
  {
   "cell_type": "code",
   "execution_count": 14,
   "id": "eae0463d",
   "metadata": {},
   "outputs": [
    {
     "data": {
      "image/png": "[encoded data removed]",
      "text/plain": [
       "<Figure size 432x288 with 1 Axes>"
      ]
     },
     "metadata": {
      "needs_background": "light"
     },
     "output_type": "display_data"
    }
   ],
   "source": [
    "plt.plot(y)\n",
    "plt.plot(m)\n",
    "plt.grid()"
   ]
  },
  {
   "cell_type": "code",
   "execution_count": 15,
   "id": "cbff48a4",
   "metadata": {},
   "outputs": [],
   "source": [
    "#Baselines matrix F\n",
    "\n",
    "n_baseline = 2**7\n",
    "\n",
    "F = np.zeros((n_baseline, nsamp))\n",
    "\n",
    "assert len(y) % n_baseline == 0\n",
    "\n",
    "cutoff = len(y) // n_baseline\n",
    "offset = 0 \n",
    "for i in range(n_baseline):\n",
    "    F[i][offset:offset+cutoff] = 1\n",
    "    offset+=cutoff\n",
    "    \n",
    "F = F.T"
   ]
  },
  {
   "cell_type": "code",
   "execution_count": 16,
   "id": "6fca4a67",
   "metadata": {},
   "outputs": [
    {
     "name": "stdout",
     "output_type": "stream",
     "text": [
      "(128, 128) 96\n"
     ]
    }
   ],
   "source": [
    "# destriping\n",
    "Z = np.eye(nsamp) - P @ np.linalg.inv(P.T @ P) @ P.T\n",
    "\n",
    "#Ax = b\n",
    "A = F.T @ Z @ F \n",
    "b = F.T @ Z @ y\n",
    "\n",
    "print(A.shape, np.linalg.matrix_rank(A))"
   ]
  },
  {
   "cell_type": "code",
   "execution_count": 17,
   "id": "c05e4b45",
   "metadata": {},
   "outputs": [
    {
     "ename": "LinAlgError",
     "evalue": "Singular matrix",
     "output_type": "error",
     "traceback": [
      "\u001b[0;31m---------------------------------------------------------------------------\u001b[0m",
      "\u001b[0;31mLinAlgError\u001b[0m                               Traceback (most recent call last)",
      "Input \u001b[0;32mIn [17]\u001b[0m, in \u001b[0;36m<cell line: 2>\u001b[0;34m()\u001b[0m\n\u001b[1;32m      1\u001b[0m \u001b[38;5;66;03m# Solution for amplitudes\u001b[39;00m\n\u001b[0;32m----> 2\u001b[0m a \u001b[38;5;241m=\u001b[39m \u001b[43mnp\u001b[49m\u001b[38;5;241;43m.\u001b[39;49m\u001b[43mlinalg\u001b[49m\u001b[38;5;241;43m.\u001b[39;49m\u001b[43msolve\u001b[49m\u001b[43m(\u001b[49m\u001b[43mA\u001b[49m\u001b[43m,\u001b[49m\u001b[43m \u001b[49m\u001b[43mb\u001b[49m\u001b[43m)\u001b[49m\n",
      "File \u001b[0;32m<__array_function__ internals>:5\u001b[0m, in \u001b[0;36msolve\u001b[0;34m(*args, **kwargs)\u001b[0m\n",
      "File \u001b[0;32m/scratch/yuyang/conda/envs/toast/lib/python3.8/site-packages/numpy/linalg/linalg.py:393\u001b[0m, in \u001b[0;36msolve\u001b[0;34m(a, b)\u001b[0m\n\u001b[1;32m    391\u001b[0m signature \u001b[38;5;241m=\u001b[39m \u001b[38;5;124m'\u001b[39m\u001b[38;5;124mDD->D\u001b[39m\u001b[38;5;124m'\u001b[39m \u001b[38;5;28;01mif\u001b[39;00m isComplexType(t) \u001b[38;5;28;01melse\u001b[39;00m \u001b[38;5;124m'\u001b[39m\u001b[38;5;124mdd->d\u001b[39m\u001b[38;5;124m'\u001b[39m\n\u001b[1;32m    392\u001b[0m extobj \u001b[38;5;241m=\u001b[39m get_linalg_error_extobj(_raise_linalgerror_singular)\n\u001b[0;32m--> 393\u001b[0m r \u001b[38;5;241m=\u001b[39m \u001b[43mgufunc\u001b[49m\u001b[43m(\u001b[49m\u001b[43ma\u001b[49m\u001b[43m,\u001b[49m\u001b[43m \u001b[49m\u001b[43mb\u001b[49m\u001b[43m,\u001b[49m\u001b[43m \u001b[49m\u001b[43msignature\u001b[49m\u001b[38;5;241;43m=\u001b[39;49m\u001b[43msignature\u001b[49m\u001b[43m,\u001b[49m\u001b[43m \u001b[49m\u001b[43mextobj\u001b[49m\u001b[38;5;241;43m=\u001b[39;49m\u001b[43mextobj\u001b[49m\u001b[43m)\u001b[49m\n\u001b[1;32m    395\u001b[0m \u001b[38;5;28;01mreturn\u001b[39;00m wrap(r\u001b[38;5;241m.\u001b[39mastype(result_t, copy\u001b[38;5;241m=\u001b[39m\u001b[38;5;28;01mFalse\u001b[39;00m))\n",
      "File \u001b[0;32m/scratch/yuyang/conda/envs/toast/lib/python3.8/site-packages/numpy/linalg/linalg.py:88\u001b[0m, in \u001b[0;36m_raise_linalgerror_singular\u001b[0;34m(err, flag)\u001b[0m\n\u001b[1;32m     87\u001b[0m \u001b[38;5;28;01mdef\u001b[39;00m \u001b[38;5;21m_raise_linalgerror_singular\u001b[39m(err, flag):\n\u001b[0;32m---> 88\u001b[0m     \u001b[38;5;28;01mraise\u001b[39;00m LinAlgError(\u001b[38;5;124m\"\u001b[39m\u001b[38;5;124mSingular matrix\u001b[39m\u001b[38;5;124m\"\u001b[39m)\n",
      "\u001b[0;31mLinAlgError\u001b[0m: Singular matrix"
     ]
    }
   ],
   "source": [
    "# Solution for amplitudes\n",
    "a = np.linalg.solve(A, b)"
   ]
  },
  {
   "cell_type": "code",
   "execution_count": null,
   "id": "fb0e5e5c",
   "metadata": {},
   "outputs": [],
   "source": [
    "plt.plot(n_corr, label='input n_corr')\n",
    "plt.plot(F @ a, label='F * a')\n",
    "plt.grid()\n",
    "plt.legend()"
   ]
  },
  {
   "cell_type": "code",
   "execution_count": null,
   "id": "4319c892",
   "metadata": {},
   "outputs": [],
   "source": [
    "plt.plot(y-F@a)\n",
    "plt.plot(y)"
   ]
  },
  {
   "cell_type": "code",
   "execution_count": null,
   "id": "3ad33d20",
   "metadata": {},
   "outputs": [],
   "source": [
    "m_solver = np.linalg.inv(P.T @ P) @ P.T\n",
    "\n",
    "m_destripe = m_solver @ (y - F @ a) #Destriping solution\n",
    "m_bin = m_solver @ y #Binned map solution\n",
    "\n",
    "#remove monopole\n",
    "m_destripe -= np.mean(m_destripe)\n",
    "m_bin -= np.mean(m_bin)"
   ]
  },
  {
   "cell_type": "code",
   "execution_count": null,
   "id": "b317289b",
   "metadata": {},
   "outputs": [],
   "source": [
    "# binned_ncorr = m_solver @ n_corr\n",
    "# binned_ncorr -= np.mean(binned_ncorr)\n",
    "\n",
    "# plt.plot(binned_ncorr)"
   ]
  },
  {
   "cell_type": "code",
   "execution_count": null,
   "id": "d435eeef",
   "metadata": {},
   "outputs": [],
   "source": [
    "plt.plot(m_bin, label='bin')\n",
    "plt.plot(m_destripe, label='destripe')\n",
    "plt.plot(m, label='input')\n",
    "plt.grid()\n",
    "plt.legend()"
   ]
  },
  {
   "cell_type": "code",
   "execution_count": null,
   "id": "e20597fa",
   "metadata": {},
   "outputs": [],
   "source": [
    "plt.plot(m_bin - m, label='bin')\n",
    "plt.plot(m_destripe - m, label='destripe')\n",
    "plt.grid()\n",
    "plt.legend()"
   ]
  },
  {
   "cell_type": "code",
   "execution_count": null,
   "id": "fa307bc8",
   "metadata": {},
   "outputs": [],
   "source": []
  }
 ],
 "metadata": {
  "kernelspec": {
   "display_name": "Python 3 (ipykernel)",
   "language": "python",
   "name": "python3"
  },
  "language_info": {
   "codemirror_mode": {
    "name": "ipython",
    "version": 3
   },
   "file_extension": ".py",
   "mimetype": "text/x-python",
   "name": "python",
   "nbconvert_exporter": "python",
   "pygments_lexer": "ipython3",
   "version": "3.8.5"
  }
 },
 "nbformat": 4,
 "nbformat_minor": 5
}
