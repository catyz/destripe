{
 "cells": [
  {
   "cell_type": "markdown",
   "id": "31cffc1f-0cb6-4047-ae06-d8188b59f68b",
   "metadata": {},
   "source": [
    "# Get debiased binned BB power spectra"
   ]
  },
  {
   "cell_type": "code",
   "execution_count": 1,
   "id": "0cdf5790-412e-44fe-bf9d-f03048552086",
   "metadata": {},
   "outputs": [],
   "source": [
    "import numpy as np\n",
    "import healpy as hp\n",
    "import matplotlib.pyplot as plt\n",
    "import pymaster as nmt"
   ]
  },
  {
   "cell_type": "code",
   "execution_count": 2,
   "id": "1d8cdac4-d2b4-4e6e-8608-6ed4b5e87177",
   "metadata": {},
   "outputs": [],
   "source": [
    "PREFIX = 'observed'\n",
    "nside = 64\n",
    "delta_ell = 9\n",
    "nmt_l = nmt.NmtBin.from_nside_linear(nside, delta_ell, is_Dell=True)\n",
    "nbin = nmt_l.get_n_bands()"
   ]
  },
  {
   "cell_type": "code",
   "execution_count": 3,
   "id": "3ff15bcd-d2c2-4672-9672-f42f5395935a",
   "metadata": {},
   "outputs": [
    {
     "name": "stdout",
     "output_type": "stream",
     "text": [
      "nside:64, Npix:49152, res:0.9 deg, sigmab:0.9 deg, fwhm:2.2 deg\n"
     ]
    }
   ],
   "source": [
    "Npix = hp.nside2npix(nside)\n",
    "lmax = 3 * nside - 1\n",
    "sigmab = hp.nside2resol(nside)\n",
    "fwhm = (8*np.log(2))**0.5 * sigmab\n",
    "print('nside:{:}, Npix:{:}, res:{:.1f} deg, sigmab:{:.1f} deg, fwhm:{:.1f} deg'.\n",
    "      format(nside, Npix, np.rad2deg(hp.nside2resol(nside)), np.rad2deg(sigmab), np.rad2deg(fwhm)))"
   ]
  },
  {
   "cell_type": "code",
   "execution_count": 27,
   "id": "79c8b809-4018-4264-8f9a-e57d3b09aea8",
   "metadata": {},
   "outputs": [
    {
     "data": {
      "text/plain": [
       "0.15519205729166666"
      ]
     },
     "execution_count": 27,
     "metadata": {},
     "output_type": "execute_result"
    }
   ],
   "source": [
    "prefix = 'scan_masked'\n",
    "mask = np.array(hp.read_map('{:}_nside{:03d}.fits'.format(prefix,nside)), dtype=bool)\n",
    "#hp.mollview(mask, title='Used mask, ring')\n",
    "unseen = ~mask\n",
    "nums = np.sum(mask)\n",
    "fsky = nums / mask.shape[0]\n",
    "fsky"
   ]
  },
  {
   "cell_type": "code",
   "execution_count": 5,
   "id": "260eb83a-7149-482b-97df-f5a4da76e4b9",
   "metadata": {},
   "outputs": [],
   "source": [
    "prefix = 'scan_masked_apodization'\n",
    "Z = apodization = np.array(hp.read_map('{:}_nside{:03d}.fits'.format(prefix,nside)))\n",
    "#hp.mollview(np.ma.masked_array(apodization, mask=~mask, fill_value=hp.UNSEEN), title='Used apodization, ring')"
   ]
  },
  {
   "cell_type": "markdown",
   "id": "3c8bca8f-016e-4f10-84d0-4d9b218904bf",
   "metadata": {},
   "source": [
    "## prepare purification"
   ]
  },
  {
   "cell_type": "code",
   "execution_count": 6,
   "id": "5959a729-ffb4-4aa8-91fd-4723e8ade095",
   "metadata": {},
   "outputs": [],
   "source": [
    "import scipy"
   ]
  },
  {
   "cell_type": "code",
   "execution_count": 7,
   "id": "a4de4726-3f88-4876-820e-7099e857ab01",
   "metadata": {},
   "outputs": [
    {
     "name": "stdout",
     "output_type": "stream",
     "text": [
      "CPU times: user 50.5 s, sys: 1.29 s, total: 51.8 s\n",
      "Wall time: 51.8 s\n"
     ]
    }
   ],
   "source": [
    "%%time\n",
    "idx_n2r = hp.ring2nest(nside,np.arange(Npix)[mask])\n",
    "mask2 = np.hstack((idx_n2r, idx_n2r + Npix))\n",
    "obs_matrix = scipy.sparse.load_npz('toast_telescope_all_time_all_obs_matrix.npz')[Npix:,Npix:][np.ix_(mask2,mask2)]"
   ]
  },
  {
   "cell_type": "code",
   "execution_count": 8,
   "id": "46cc1569-2170-4124-9ce3-b93005d31702",
   "metadata": {},
   "outputs": [
    {
     "name": "stdout",
     "output_type": "stream",
     "text": [
      "CPU times: user 76.7 ms, sys: 8.17 ms, total: 84.8 ms\n",
      "Wall time: 84 ms\n"
     ]
    }
   ],
   "source": [
    "%%time\n",
    "from scipy.sparse import diags\n",
    "#Z = apodization * nums / np.sum(apodization)\n",
    "ZZ = diags(np.hstack((Z[mask],Z[mask])))\n",
    "obs_matrix_apo = ZZ @ obs_matrix"
   ]
  },
  {
   "cell_type": "code",
   "execution_count": 9,
   "id": "bfca023c-44fd-4f3d-af37-15b59627df6b",
   "metadata": {},
   "outputs": [
    {
     "name": "stdout",
     "output_type": "stream",
     "text": [
      "CPU times: user 1.34 s, sys: 560 ms, total: 1.9 s\n",
      "Wall time: 1.9 s\n"
     ]
    }
   ],
   "source": [
    "%%time\n",
    "f = np.load('{:}_eigen_spectrum_nside{:03d}.npz'.format(PREFIX,nside))\n",
    "eigvals = f['eigvals']\n",
    "norm_eigvecs = f['norm_eigvecs']"
   ]
  },
  {
   "cell_type": "code",
   "execution_count": 10,
   "id": "bb779ee2-a181-4dee-8be5-69a49a5e9f7a",
   "metadata": {},
   "outputs": [
    {
     "data": {
      "text/plain": [
       "(15256, 4388)"
      ]
     },
     "execution_count": 10,
     "metadata": {},
     "output_type": "execute_result"
    }
   ],
   "source": [
    "#lens = np.searchsorted(eigvals > 0.98, True)\n",
    "lens = 2 * nums //4\n",
    "2 * nums, lens"
   ]
  },
  {
   "cell_type": "code",
   "execution_count": 11,
   "id": "9a673ca5-6ac8-40ea-aff6-adbe265ad4fd",
   "metadata": {},
   "outputs": [
    {
     "name": "stdout",
     "output_type": "stream",
     "text": [
      "CPU times: user 43.3 s, sys: 28.9 s, total: 1min 12s\n",
      "Wall time: 2.17 s\n"
     ]
    }
   ],
   "source": [
    "%%time\n",
    "v = norm_eigvecs[:,-lens:]\n",
    "Pib = Pi = np.tensordot(v,v,axes=((1,),(1,)))"
   ]
  },
  {
   "cell_type": "markdown",
   "id": "d8978ed2-18a5-4016-9019-b593f7dd6316",
   "metadata": {},
   "source": [
    "## prepare transfer functions"
   ]
  },
  {
   "cell_type": "code",
   "execution_count": 12,
   "id": "f726cdb6-1506-4491-9a94-3a6cc26626ad",
   "metadata": {},
   "outputs": [],
   "source": [
    "mll_ks = np.load('nmt_mode_coupling_matrix.npy')\n",
    "mll_no_ks = np.load('nmt_mode_coupling_matrix_no_KS_purif.npy')\n",
    "\n",
    "fls = np.load('bb_transfer_functions_mc1024.npz')\n",
    "fl_ee = fls['fl_ee']\n",
    "fl_bb_ttbb = fls['fl_bb_ttbb']\n",
    "fl_bb_ttbb_ks = fls['fl_bb_ttbb_ks']"
   ]
  },
  {
   "cell_type": "code",
   "execution_count": 13,
   "id": "b7f7053c-a227-46b0-8eec-b2c9fd5c3685",
   "metadata": {},
   "outputs": [],
   "source": [
    "ls = np.arange(lmax+1)\n",
    "bl = np.exp(-ls*(ls+1)*sigmab*sigmab*0.5)\n",
    "\n",
    "## only for EE, BB\n",
    "# B-purification\n",
    "FellBell2 = np.empty(shape=(2,lmax+1))\n",
    "FellBell2[0][...] = fl_ee * bl**2\n",
    "FellBell2[1][...] = fl_bb_ttbb * bl**2\n",
    "FellBell2 = np.abs(FellBell2)\n",
    "\n",
    "# KS\n",
    "FellBell2_KS = np.empty(shape=(2,lmax+1))\n",
    "FellBell2_KS[0][...] = fl_ee * bl**2\n",
    "FellBell2_KS[1][...] = fl_bb_ttbb_ks * bl**2\n",
    "FellBell2_KS = np.abs(FellBell2_KS)"
   ]
  },
  {
   "cell_type": "markdown",
   "id": "09765bb2-8cef-4a99-896b-dc7827068ca6",
   "metadata": {},
   "source": [
    "## prepare camb"
   ]
  },
  {
   "cell_type": "code",
   "execution_count": 14,
   "id": "5cb722b4-c434-43a5-858b-86d4e8e39a13",
   "metadata": {},
   "outputs": [],
   "source": [
    "import camb"
   ]
  },
  {
   "cell_type": "code",
   "execution_count": 15,
   "id": "da984f66-746d-4e97-baa2-930519a953a3",
   "metadata": {},
   "outputs": [
    {
     "name": "stdout",
     "output_type": "stream",
     "text": [
      "dict_keys(['total', 'unlensed_scalar', 'unlensed_total', 'lensed_scalar', 'tensor', 'lens_potential'])\n",
      "CPU times: user 2min 5s, sys: 808 ms, total: 2min 6s\n",
      "Wall time: 1.61 s\n"
     ]
    }
   ],
   "source": [
    "%%time\n",
    "pars = camb.CAMBparams()\n",
    "pars.InitPower.set_params(As=2e-9, ns=0.965, r=0.2)\n",
    "pars.set_for_lmax(4000, lens_potential_accuracy=1)\n",
    "pars.set_accuracy(AccuracyBoost=1)\n",
    "pars.set_cosmology(H0=67.5, ombh2=0.022, omch2=0.122, mnu=0.06, omk=0, tau=0.06)\n",
    "pars.WantTensors = True\n",
    "pars.max_l_tensor = 1600\n",
    "pars.max_eta_k_tensor = 3200\n",
    "results = camb.get_results(pars)\n",
    "powers =results.get_cmb_power_spectra(pars, CMB_unit='muK')\n",
    "print(powers.keys())"
   ]
  },
  {
   "cell_type": "code",
   "execution_count": 16,
   "id": "e3861ebe-a53f-4aaf-b0f4-7250c15d211d",
   "metadata": {},
   "outputs": [],
   "source": [
    "def dl2cl(l,dl):\n",
    "    return dl/l/(l+1)*2*np.pi\n",
    "\n",
    "def cl2dl(l,cl):\n",
    "    return l*(l+1)*cl/2/np.pi\n",
    "\n",
    "def get_cls(key, teb='teb'):\n",
    "    #total\n",
    "    #unlensed_scalar\n",
    "    #unlensed_total\n",
    "    #lensed_scalar\n",
    "    #tensor\n",
    "    #ens_potential\n",
    "    Dls = powers[key]\n",
    "    ell = np.arange(Dls.shape[0])\n",
    "    ell[0] = 1.\n",
    "    cltt, clee, clbb, clte = dl2cl(ell, Dls.T)\n",
    "    if teb == 'te':\n",
    "        clbb = np.zeros_like(cltt)\n",
    "    elif teb == 'tb':\n",
    "        clte = clee = np.zeros_like(cltt)\n",
    "\n",
    "    cltb = cleb = np.zeros_like(cltt)\n",
    "    # a list of cl’s (TT, EE, BB, TE, EB, TB for polarized input map)\n",
    "    return cltt,clee,clbb,clte,cleb,cltb"
   ]
  },
  {
   "cell_type": "markdown",
   "id": "098d2f44-7d82-4f73-ae31-ede266daf205",
   "metadata": {},
   "source": [
    "## prepare nmt"
   ]
  },
  {
   "cell_type": "markdown",
   "id": "fa4218bd-2aad-46e9-ac3b-7e7163ca9ad3",
   "metadata": {},
   "source": [
    "only EE & BB have been checked"
   ]
  },
  {
   "cell_type": "code",
   "execution_count": 17,
   "id": "d72c984c-2421-4af6-94e1-4e4debd5c6ce",
   "metadata": {},
   "outputs": [],
   "source": [
    "import pymaster as nmt\n",
    "\n",
    "def compute_master(f_a, f_b, wsp):\n",
    "    cl_coupled = nmt.compute_coupled_cell(f_a, f_b)\n",
    "    cl_decoupled = wsp.decouple_cell(cl_coupled)\n",
    "    return cl_decoupled\n",
    "\n",
    "# only EE & BB have bben checked\n",
    "def maps2dbs(iqu_map, apod, nmt_l, flbl2_mll=None, has_apodized=False, do_pure=False):\n",
    "    if has_apodized:\n",
    "        amask = apod > 0.\n",
    "        tmp = np.zeros_like(iqu_map)\n",
    "        tmp[:,amask] = iqu_map[:,amask]/apod[amask]\n",
    "        I,Q,U = tmp\n",
    "    else:\n",
    "        I,Q,U = iqu_map\n",
    "        \n",
    "    # temperature\n",
    "    f0 = nmt.NmtField(apod, [I,])\n",
    "    w = nmt.NmtWorkspace()\n",
    "    w.compute_coupling_matrix(f0, f0, nmt_l)\n",
    "    (cltt,) = compute_master(f0,f0,w)\n",
    "\n",
    "    # polarization\n",
    "    f2 = nmt.NmtField(apod, [Q, U], purify_e=False, purify_b=do_pure)\n",
    "    w = nmt.NmtWorkspace()\n",
    "    w.compute_coupling_matrix(f2, f2, nmt_l)\n",
    "\n",
    "    if flbl2_mll is not None:\n",
    "        flbl2, mll = flbl2_mll\n",
    "        if not do_pure:\n",
    "            mll[3::4,0::4] = 0. # EEBB\n",
    "            mll[1::4,2::4] = 0. # EBBE \n",
    "            mll[2::4,1::4] = 0. # BEEB\n",
    "            \n",
    "        fb2ee = flbl2[0]\n",
    "        fb2bb = flbl2[1]\n",
    "        \n",
    "        fb2 = np.empty(shape=len(fb2ee)*4, dtype=np.float64)\n",
    "        fb2[0::4][...] = fb2ee\n",
    "        fb2[1::4][...] = np.sqrt(fb2ee*fb2bb)\n",
    "        fb2[2::4][...] = np.sqrt(fb2ee*fb2bb)\n",
    "        fb2[3::4][...] = fb2bb\n",
    "        w.update_coupling_matrix(mll * fb2)\n",
    "\n",
    "    clee,cleb,clbe,clbb = compute_master(f2,f2,w)\n",
    "\n",
    "    # temperature x polarization\n",
    "    w = nmt.NmtWorkspace()\n",
    "    w.compute_coupling_matrix(f0, f2, nmt_l)\n",
    "\n",
    "    if flbl2_mll is not None:\n",
    "        fb2ee = flbl2[0]\n",
    "        fb2bb = flbl2[1]\n",
    "        fb2tt = np.ones_like(fb2ee)\n",
    "        \n",
    "        fb2 = np.empty(shape=len(fb2ee)*2, dtype=np.float64)\n",
    "        fb2[0::2][...] = np.sqrt(fb2tt*fb2ee)\n",
    "        fb2[1::2][...] = np.sqrt(fb2tt*fb2bb)\n",
    "        mllteb = w.get_coupling_matrix()\n",
    "        w.update_coupling_matrix(mllteb * fb2)\n",
    "   \n",
    "    clte,cltb = compute_master(f0,f2,w)\n",
    "        \n",
    "    return cltt,clee,clbb,clte,0.5*(cleb+clbe),cltb,nmt_l.get_effective_ells()"
   ]
  },
  {
   "cell_type": "code",
   "execution_count": 25,
   "id": "6907b6dd-736a-4df1-a6ff-9108017e86fd",
   "metadata": {},
   "outputs": [
    {
     "name": "stderr",
     "output_type": "stream",
     "text": [
      "/home/chinoney/.local/lib/python3.6/site-packages/healpy/sphtfunc.py:824: UserWarning: Sigma is 54.967783 arcmin (0.015989 rad) \n",
      "  sigma * 60 * 180 / np.pi, sigma\n",
      "/home/chinoney/.local/lib/python3.6/site-packages/healpy/sphtfunc.py:829: UserWarning: -> fwhm is 129.439236 arcmin\n",
      "  sigma * 60 * 180 / np.pi * (2.0 * np.sqrt(2.0 * np.log(2.0)))\n"
     ]
    },
    {
     "data": {
      "image/png": "[encoded data removed]",
      "text/plain": [
       "<Figure size 864x432 with 2 Axes>"
      ]
     },
     "metadata": {
      "needs_background": "light"
     },
     "output_type": "display_data"
    }
   ],
   "source": [
    "# LCDM;\n",
    "np.random.seed(0)\n",
    "teb = 'teb'\n",
    "key = 'lensed_scalar' # 'total' for transfer function\n",
    "Cls = get_cls(key, teb=teb) # sim input w/o beam\n",
    "l = ls = np.arange(len(Cls[0]))\n",
    "Dls = l*(l+1)/2./np.pi*Cls\n",
    "\n",
    "map0 = hp.synfast(Cls, nside, sigma=sigmab, pol=True, new=True) # beam convolved when simulated here\n",
    "m = np.zeros(shape=(3,Npix))\n",
    "Rm = np.zeros(shape=(3,Npix))\n",
    "pRm = np.zeros(shape=(3,Npix))\n",
    "        \n",
    "m[:,mask] = map0[:,mask]\n",
    "Rm[1:,mask] = (obs_matrix_apo @ m[1:,mask].ravel()).reshape((2,-1))\n",
    "pRm[1:,mask] = (Pib @ Rm[1:,mask].ravel()).reshape((2,-1))\n",
    "\n",
    "fig,axes = plt.subplots(1,2, figsize=(12,6))\n",
    "for idx,ax in enumerate(axes):\n",
    "    ax.loglog(ls[2:lmax], Dls[idx+1][2:lmax], 'k-')\n",
    "\n",
    "# KS purif\n",
    "dls = maps2dbs(Rm, apodization, nmt_l, flbl2_mll=(FellBell2_KS, mll_ks), has_apodized=True, do_pure=True)\n",
    "l = dls[-1]\n",
    "for idx,ax in enumerate(axes):\n",
    "    ax.loglog(l-1, dls[idx+1], 'bo', alpha=0.3, label='KS B-purif')\n",
    "\n",
    "# no KS purif\n",
    "dls = maps2dbs(Rm, apodization, nmt_l, flbl2_mll=(FellBell2_KS, mll_no_ks), has_apodized=True, do_pure=False)\n",
    "l = dls[-1]\n",
    "for idx,ax in enumerate(axes):\n",
    "    ax.loglog(l+1, dls[idx+1], 'go', alpha=0.3, label='no KS B-purif')\n",
    "\n",
    "# B-purif\n",
    "dls = maps2dbs(pRm, apodization, nmt_l, flbl2_mll=(FellBell2, mll_no_ks), has_apodized=True, do_pure=False)\n",
    "l = dls[-1]\n",
    "for idx,ax in enumerate(axes):\n",
    "    ax.loglog(l, dls[idx+1], 'co--', label='B-purif')\n",
    "\n",
    "for ax,title in zip(axes, ('EE', 'BB')):\n",
    "    ax.set_xlim(5, lmax+10)\n",
    "    ax.set_ylim(2e-8, 2e-0)\n",
    "    ax.set_title(r\"$\\Lambda$CDM ({:})\".format(title))\n",
    "    ax.set_ylabel(r\"$D_\\ell^{{{:}}}$\".format(title))\n",
    "    ax.set_xlabel(r\"Multipole Moment, $\\ell$\")\n",
    "    ax.legend()"
   ]
  },
  {
   "cell_type": "markdown",
   "id": "60eae3b7-68af-4431-9791-5491b89510e3",
   "metadata": {},
   "source": [
    "## run MCs"
   ]
  },
  {
   "cell_type": "code",
   "execution_count": 19,
   "id": "0e035b1a-a754-4a9e-9644-7052a8e2dba5",
   "metadata": {},
   "outputs": [],
   "source": [
    "mcnums = 512"
   ]
  },
  {
   "cell_type": "code",
   "execution_count": 20,
   "id": "fb762364-0ac5-4296-8b3d-437e44e4acde",
   "metadata": {},
   "outputs": [],
   "source": [
    "def fill_clb(res, cls):\n",
    "    res[...] = cls[:3]"
   ]
  },
  {
   "cell_type": "code",
   "execution_count": 21,
   "id": "4cf70093-7616-4894-882a-94d819f84412",
   "metadata": {},
   "outputs": [
    {
     "name": "stdout",
     "output_type": "stream",
     "text": [
      "0,"
     ]
    },
    {
     "name": "stderr",
     "output_type": "stream",
     "text": [
      "/home/chinoney/.local/lib/python3.6/site-packages/healpy/sphtfunc.py:824: UserWarning: Sigma is 54.967783 arcmin (0.015989 rad) \n",
      "  sigma * 60 * 180 / np.pi, sigma\n",
      "/home/chinoney/.local/lib/python3.6/site-packages/healpy/sphtfunc.py:829: UserWarning: -> fwhm is 129.439236 arcmin\n",
      "  sigma * 60 * 180 / np.pi * (2.0 * np.sqrt(2.0 * np.log(2.0)))\n"
     ]
    },
    {
     "name": "stdout",
     "output_type": "stream",
     "text": [
      "5,10,15,20,25,30,35,40,45,50,55,60,65,70,75,80,85,90,95,100,105,110,115,120,125,130,135,140,145,150,155,160,165,170,175,180,185,190,195,200,205,210,215,220,225,230,235,240,245,250,255,260,265,270,275,280,285,290,295,300,305,310,315,320,325,330,335,340,345,350,355,360,365,370,375,380,385,390,395,400,405,410,415,420,425,430,435,440,445,450,455,460,465,470,475,480,485,490,495,500,505,510,511 done\n",
      "CPU times: user 13h 50min 27s, sys: 18min 51s, total: 14h 9min 19s\n",
      "Wall time: 9min 21s\n"
     ]
    }
   ],
   "source": [
    "%%time\n",
    "# LCDM;\n",
    "np.random.seed(0)\n",
    "teb = 'teb'\n",
    "key = 'lensed_scalar' # 'total' for transfer function\n",
    "Cls = get_cls(key, teb=teb) # sim input w/o beam\n",
    "l = ls = np.arange(len(Cls[0]))\n",
    "Dls = l*(l+1)/2./np.pi*Cls\n",
    "\n",
    "# at idx=1, 0: KS purification, 1: KS no purification, 2: B purification\n",
    "mcres = np.zeros(shape=(mcnums, 3, 3, nbin))\n",
    "\n",
    "for imc in range(mcnums):\n",
    "    if imc % 5 == 0:\n",
    "        print(imc, end=',')\n",
    "\n",
    "    map0 = hp.synfast(Cls, nside, sigma=sigmab, pol=True, new=True) # beam convolved when simulated here\n",
    "    m = np.zeros(shape=(3,Npix))\n",
    "    Rm = np.zeros(shape=(3,Npix))\n",
    "    pRm = np.zeros(shape=(3,Npix))\n",
    "        \n",
    "    m[:,mask] = map0[:,mask]\n",
    "    Rm[1:,mask] = (obs_matrix_apo @ m[1:,mask].ravel()).reshape((2,-1))\n",
    "    pRm[1:,mask] = (Pib @ Rm[1:,mask].ravel()).reshape((2,-1))\n",
    "\n",
    "    # KS purif\n",
    "    dls = maps2dbs(Rm, apodization, nmt_l, flbl2_mll=(FellBell2_KS, mll_ks), has_apodized=True, do_pure=True)\n",
    "    fill_clb(mcres[imc][0], dls)\n",
    "\n",
    "    # no KS purif\n",
    "    dls = maps2dbs(Rm, apodization, nmt_l, flbl2_mll=(FellBell2_KS, mll_no_ks), has_apodized=True, do_pure=False)\n",
    "    fill_clb(mcres[imc][1], dls)\n",
    "    \n",
    "    # B-purif\n",
    "    dls = maps2dbs(pRm, apodization, nmt_l, flbl2_mll=(FellBell2, mll_no_ks), has_apodized=True, do_pure=False)\n",
    "    fill_clb(mcres[imc][2], dls)\n",
    "    \n",
    "print(mcnums-1, 'done')\n",
    "\n",
    "avg = np.abs(np.mean(mcres, axis=0))\n",
    "std = np.std(mcres, axis=0)\n",
    "\n",
    "for _k,_v in zip(('res', 'avg', 'std'),(mcres, avg, std)):\n",
    "    fn = 'reconstructed_Db_{:}_mc{:04d}'.format(_k, mcnums)\n",
    "    np.save(fn, _v)"
   ]
  },
  {
   "cell_type": "markdown",
   "id": "e612364c-7d48-44d1-bfce-14de6b9f54e8",
   "metadata": {},
   "source": [
    "## calculate debiased power spectra"
   ]
  },
  {
   "cell_type": "code",
   "execution_count": 24,
   "id": "dd6f771b-7b7d-4f05-96d8-7a5829993339",
   "metadata": {},
   "outputs": [
    {
     "data": {
      "image/png": "[encoded data removed]",
      "text/plain": [
       "<Figure size 864x432 with 2 Axes>"
      ]
     },
     "metadata": {
      "needs_background": "light"
     },
     "output_type": "display_data"
    }
   ],
   "source": [
    "fig,axes = plt.subplots(1,2, figsize=(12,6))\n",
    "for idx,ax in enumerate(axes):\n",
    "    ax.loglog(ls[2:lmax], Dls[idx+1][2:lmax], 'k-')\n",
    "    \n",
    "l = nmt_l.get_effective_ells()\n",
    "\n",
    "# KS purif\n",
    "dls = avg[0]\n",
    "ddls = std[0]\n",
    "for idx,ax in enumerate(axes):\n",
    "    ax.errorbar(l-1, dls[idx+1], yerr=ddls[idx+1]/mcnums**0.5, fmt='bo', alpha=0.3, label='KS B-purif')\n",
    "    ax.set_yscale('log')\n",
    "    ax.set_xscale('log')\n",
    "\n",
    "# no KS purif\n",
    "dls = avg[1]\n",
    "ddls = std[1]\n",
    "for idx,ax in enumerate(axes):\n",
    "    ax.errorbar(l+1, dls[idx+1], yerr=ddls[idx+1]/mcnums**0.5, fmt='go', alpha=0.3, label='no KS B-purif')\n",
    "    ax.set_yscale('log')\n",
    "    ax.set_xscale('log')\n",
    "\n",
    "# B-purif\n",
    "dls = avg[2]\n",
    "ddls = std[2]\n",
    "for idx,ax in enumerate(axes):\n",
    "    ax.errorbar(l, dls[idx+1], yerr=ddls[idx+1]/mcnums**0.5, fmt='co--', label='B-purif')\n",
    "    ax.set_yscale('log')\n",
    "    ax.set_xscale('log')\n",
    "\n",
    "for ax,title in zip(axes, ('EE', 'BB')):\n",
    "    ax.set_xlim(5, 2*nside)\n",
    "    ax.set_ylim(2e-8, 2e-0)\n",
    "    ax.set_title(r\"$\\Lambda$CDM ({:}) w/ # of MCs={:}\".format(title, mcnums))\n",
    "    ax.set_ylabel(r\"$D_\\ell^{{{:}}}$\".format(title))\n",
    "    ax.set_xlabel(r\"Multipole Moment, $\\ell$\")\n",
    "    ax.legend()"
   ]
  },
  {
   "cell_type": "code",
   "execution_count": null,
   "id": "cb742e82-b0f3-419e-876e-9c9c2c4df4be",
   "metadata": {},
   "outputs": [],
   "source": []
  }
 ],
 "metadata": {
  "kernelspec": {
   "display_name": "Python 3",
   "language": "python",
   "name": "python3"
  },
  "language_info": {
   "codemirror_mode": {
    "name": "ipython",
    "version": 3
   },
   "file_extension": ".py",
   "mimetype": "text/x-python",
   "name": "python",
   "nbconvert_exporter": "python",
   "pygments_lexer": "ipython3",
   "version": "3.6.9"
  }
 },
 "nbformat": 4,
 "nbformat_minor": 5
}
