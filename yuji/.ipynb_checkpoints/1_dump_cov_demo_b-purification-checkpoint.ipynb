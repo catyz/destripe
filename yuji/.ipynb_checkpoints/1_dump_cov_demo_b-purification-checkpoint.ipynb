{
 "cells": [
  {
   "cell_type": "markdown",
   "metadata": {},
   "source": [
    "# Calculate a pixel-pixel covariance matrix for a give patch\n",
    "This code makes an analystica pixel-pixel covariance matrix (https://arxiv.org/abs/astro-ph/0012120) for the matrix-based purification. Note that weight/apodization will be applied later"
   ]
  },
  {
   "cell_type": "code",
   "execution_count": 1,
   "metadata": {},
   "outputs": [],
   "source": [
    "import os\n",
    "import numpy as np\n",
    "import healpy as hp\n",
    "import matplotlib.pyplot as plt\n",
    "import scipy"
   ]
  },
  {
   "cell_type": "markdown",
   "metadata": {},
   "source": [
    "joblib is needed to run parallel jobs and this is the reason why this code is still written in ipython notebook."
   ]
  },
  {
   "cell_type": "code",
   "execution_count": 2,
   "metadata": {},
   "outputs": [
    {
     "name": "stdout",
     "output_type": "stream",
     "text": [
      "Requirement already satisfied: joblib in /home/chinoney/.local/lib/python3.6/site-packages (1.0.1)\n",
      "\u001b[33mWARNING: You are using pip version 21.1.2; however, version 21.3.1 is available.\n",
      "You should consider upgrading via the '/usr/bin/python3 -m pip install --upgrade pip' command.\u001b[0m\n"
     ]
    }
   ],
   "source": [
    "!pip3 install joblib --user"
   ]
  },
  {
   "cell_type": "code",
   "execution_count": 3,
   "metadata": {},
   "outputs": [],
   "source": [
    "from joblib import Parallel, delayed, cpu_count"
   ]
  },
  {
   "cell_type": "code",
   "execution_count": 4,
   "metadata": {},
   "outputs": [
    {
     "name": "stdout",
     "output_type": "stream",
     "text": [
      "96\n"
     ]
    }
   ],
   "source": [
    "print(cpu_count())"
   ]
  },
  {
   "cell_type": "code",
   "execution_count": 5,
   "metadata": {},
   "outputs": [],
   "source": [
    "Njobs = cpu_count() // 2"
   ]
  },
  {
   "cell_type": "markdown",
   "metadata": {},
   "source": [
    "## prepare mask"
   ]
  },
  {
   "cell_type": "code",
   "execution_count": 6,
   "metadata": {},
   "outputs": [],
   "source": [
    "PREFIX = 'scan_masked'"
   ]
  },
  {
   "cell_type": "markdown",
   "metadata": {},
   "source": [
    "demonstration w/ low resolution. need to upgrade upto 128 at least (256 enough?)."
   ]
  },
  {
   "cell_type": "code",
   "execution_count": 7,
   "metadata": {},
   "outputs": [
    {
     "name": "stdout",
     "output_type": "stream",
     "text": [
      "nside:64, Npix:49152, res:0.9 deg, sigmab:0.9 deg\n"
     ]
    }
   ],
   "source": [
    "nside = 64\n",
    "Npix = hp.nside2npix(nside)\n",
    "lmax = 3 * nside - 1\n",
    "sigmab = hp.nside2resol(nside) \n",
    "fwhm = (8*np.log(2))**0.5 * sigmab\n",
    "print('nside:{:}, Npix:{:}, res:{:.1f} deg, sigmab:{:.1f} deg'.format(nside, Npix, np.rad2deg(hp.nside2resol(nside)), np.rad2deg(sigmab)))"
   ]
  },
  {
   "cell_type": "code",
   "execution_count": 8,
   "metadata": {},
   "outputs": [
    {
     "name": "stdout",
     "output_type": "stream",
     "text": [
      "-rw-rw---- 1 chinoney chinoney 171K Mar 14 05:42 toast_telescope_all_time_all_filtered.fits.gz\n",
      "-rw-rw---- 1 chinoney chinoney  22K Mar 14 05:42 toast_telescope_all_time_all_hits.fits.gz\n",
      "-rw-rw---- 1 chinoney chinoney 299K Mar 14 05:42 toast_telescope_all_time_all_invnpp.fits.gz\n"
     ]
    }
   ],
   "source": [
    "!ls -lah *.gz"
   ]
  },
  {
   "cell_type": "code",
   "execution_count": 10,
   "metadata": {},
   "outputs": [
    {
     "data": {
      "text/plain": [
       "(7628, 49152, 0.15519205729166666)"
      ]
     },
     "execution_count": 10,
     "metadata": {},
     "output_type": "execute_result"
    },
    {
     "data": {
      "image/png": "[encoded data removed]",
      "text/plain": [
       "<Figure size 612x388.8 with 2 Axes>"
      ]
     },
     "metadata": {
      "needs_background": "light"
     },
     "output_type": "display_data"
    }
   ],
   "source": [
    "hits = hp.read_map('toast_telescope_all_time_all_hits.fits.gz'.format(nside))\n",
    "assert(len(hits)==Npix)\n",
    "unseen = (hits == 0)\n",
    "mask = ~unseen\n",
    "indexes = np.arange(Npix)[mask]\n",
    "\n",
    "hp.mollview(mask, title='toast output: mask, ring')\n",
    "fn = '{:}_nside{:03d}.png'.format(PREFIX, nside)\n",
    "plt.savefig(fn)\n",
    "\n",
    "fn = '{:}_nside{:03d}.fits'.format(PREFIX, nside)\n",
    "if not os.path.exists(fn):\n",
    "    hp.write_map(fn, mask)\n",
    "\n",
    "npix = np.sum(mask)\n",
    "fsky =  npix / Npix\n",
    "npix, Npix, fsky"
   ]
  },
  {
   "cell_type": "markdown",
   "metadata": {},
   "source": [
    "here binary mask is defined rather than weighted mask. note that the weight mask will be applied later."
   ]
  },
  {
   "cell_type": "markdown",
   "metadata": {},
   "source": [
    "## define function to generate covariance"
   ]
  },
  {
   "cell_type": "markdown",
   "metadata": {},
   "source": [
    "cython/lru_cache are needed to boost speed. this is also the reason why I still implement it w/ ipython notebook."
   ]
  },
  {
   "cell_type": "code",
   "execution_count": 11,
   "metadata": {},
   "outputs": [
    {
     "name": "stdout",
     "output_type": "stream",
     "text": [
      "Requirement already satisfied: lru_cache in /home/chinoney/.local/lib/python3.6/site-packages (0.2.3)\n",
      "Requirement already satisfied: cython in /home/chinoney/.local/lib/python3.6/site-packages (0.29.23)\n",
      "\u001b[33mWARNING: You are using pip version 21.1.2; however, version 21.3.1 is available.\n",
      "You should consider upgrading via the '/usr/bin/python3 -m pip install --upgrade pip' command.\u001b[0m\n"
     ]
    }
   ],
   "source": [
    "!pip3 install lru_cache cython --user"
   ]
  },
  {
   "cell_type": "code",
   "execution_count": 12,
   "metadata": {},
   "outputs": [],
   "source": [
    "import numpy as np\n",
    "import math\n",
    "from scipy.special import lpmv\n",
    "import healpy as hp\n",
    "import itertools\n",
    "from functools import lru_cache\n",
    "%load_ext Cython"
   ]
  },
  {
   "cell_type": "code",
   "execution_count": 13,
   "metadata": {},
   "outputs": [],
   "source": [
    "def get_cls_linv2(only_bb_or_only_ee,lmin=0,lmax=lmax,sigmab=0.):\n",
    "    ell = np.arange(lmax)\n",
    "    ell[0] = 1\n",
    "    cl = 1e-0/ell**2 * np.exp(-sigmab**2*ell*(ell+1))\n",
    "    cl[0:2] = 0.\n",
    "\n",
    "    m = (lmin <= ell) & (ell <= lmax)\n",
    "    ell = ell[m]\n",
    "    cl = cl[m]\n",
    "    \n",
    "    assert (only_bb_or_only_ee in ('only_bb', 'only_ee'))\n",
    "    \n",
    "    if only_bb_or_only_ee == 'only_bb':\n",
    "        clbb = cl\n",
    "        clee = np.zeros_like(ell)\n",
    "    else:\n",
    "        clbb = np.zeros_like(ell)\n",
    "        clee = cl\n",
    "\n",
    "    cltt = clte = cltb = cleb = np.zeros_like(ell)\n",
    "    return cltt,clee,clbb,clte,cleb,cltb,ell"
   ]
  },
  {
   "cell_type": "code",
   "execution_count": 14,
   "metadata": {},
   "outputs": [],
   "source": [
    "__abs_tol = 1e-12 # valid for nside=512\n",
    "\n",
    "@lru_cache(maxsize=lmax)\n",
    "def P2(ell,z):\n",
    "    if ell < 2:\n",
    "        return lpmv(2,ell,z)\n",
    "    elif ell==2:\n",
    "        return 3 * (1-z**2)\n",
    "    elif ell==3:\n",
    "        return 5 * z * P2(2,z)\n",
    "    else:\n",
    "        return ( (2*ell-1)*z*P2(ell-1,z) - (ell+1)*P2(ell-2,z) ) / (ell-2)\n",
    "\n",
    "@lru_cache(maxsize=lmax)\n",
    "def F12(ell,z):\n",
    "    if math.isclose(z,+1.,abs_tol=__abs_tol):\n",
    "        return 1./2\n",
    "    elif math.isclose(z,-1.,abs_tol=1e-12):\n",
    "        return 1./2 * (-1)**ell\n",
    "    else:\n",
    "        return 2 * ( (ell+2)*z/(1-z**2) * P2(ell-1,z) - ((ell-4)/(1-z**2) + ell*(ell-1)/2) * P2(ell,z) ) / ( (ell-1)*ell*(ell+1)*(ell+2) )\n",
    "\n",
    "@lru_cache(maxsize=lmax)\n",
    "def F22(ell,z):\n",
    "    if math.isclose(z,+1.,abs_tol=__abs_tol):\n",
    "        return -1./2\n",
    "    elif math.isclose(z,-1.,abs_tol=__abs_tol):\n",
    "        return 1./2 * (-1)**ell\n",
    "    else:\n",
    "        return 4 * ( (ell+2)*P2(ell-1,z) - (ell-1)*z*P2(ell,z) ) / ( (ell-1)*ell*(ell+1)*(ell+2)*(1-z**2) )\n",
    "\n",
    "vF12 = np.frompyfunc(F12, 2, 1)\n",
    "vF22 = np.frompyfunc(F22, 2, 1)\n",
    "\n",
    "def QiQjUiUj(z, only_bb_or_only_ee):\n",
    "    _,vee,vbb,_,_,_,vell = get_cls_linv2(only_bb_or_only_ee, lmin=2, lmax=lmax, sigmab=sigmab)    \n",
    "    qq = np.sum((2*vell+1)/(4*np.pi) * (vF12(vell,z)*vee - vF22(vell,z)*vbb))\n",
    "    uu = np.sum((2*vell+1)/(4*np.pi) * (vF12(vell,z)*vbb - vF22(vell,z)*vee))\n",
    "    return qq,uu"
   ]
  },
  {
   "cell_type": "code",
   "execution_count": 15,
   "metadata": {},
   "outputs": [],
   "source": [
    "%%cython\n",
    "cimport cython\n",
    "import numpy as np\n",
    "import math\n",
    "@cython.boundscheck(False)\n",
    "@cython.wraparound(False)\n",
    "\n",
    "cpdef cross(left, right):\n",
    "    x = ((left[1] * right[2]) - (left[2] * right[1]))\n",
    "    y = ((left[2] * right[0]) - (left[0] * right[2]))\n",
    "    z = ((left[0] * right[1]) - (left[1] * right[0]))\n",
    "    return (x,y,z) # np.array((x,y,z))\n",
    "\n",
    "cpdef dot(left, right):\n",
    "    return left[0]*right[0] + left[1]*right[1] + left[2]*right[2]\n",
    "\n",
    "cpdef rotator(ri, rj, abs_tol=1e-12):\n",
    "    rij = cross(ri,rj)\n",
    "\n",
    "    if math.isclose(rij[0], 0., abs_tol=abs_tol) and math.isclose(rij[1], 0., abs_tol=abs_tol) and math.isclose(rij[2], 0., abs_tol=abs_tol):\n",
    "        sin2alpha = 0.\n",
    "        cos2alpha = 1.\n",
    "    else:\n",
    "        if math.isclose(ri[2],+1.,abs_tol=abs_tol):\n",
    "            asij = 0.\n",
    "            acij = -1.\n",
    "        elif math.isclose(ri[2],-1.,abs_tol=abs_tol):\n",
    "            asij = 0.\n",
    "            acij = +1.\n",
    "        else:\n",
    "            ris = cross((0,0,1), ri)\n",
    "\n",
    "            asij = dot(cross(rij, ris), ri)\n",
    "            acij = dot(rij, ris)\n",
    "            \n",
    "        aij = math.atan2(acij,asij) # FIXME: reverse? but consistent w/ sim\n",
    "        sin2alpha = math.sin(2*aij)\n",
    "        cos2alpha = math.cos(2*aij)\n",
    "\n",
    "    # for healpix\n",
    "    return np.array([[ cos2alpha,-sin2alpha],\n",
    "                     [+sin2alpha, cos2alpha]])"
   ]
  },
  {
   "cell_type": "code",
   "execution_count": 16,
   "metadata": {},
   "outputs": [],
   "source": [
    "def get_ana_cov_ij(nside,npix,only_bb_or_only_bb,i,j,I,J):\n",
    "    ri,rj = hp.pix2vec(nside,i),hp.pix2vec(nside,j)\n",
    "        \n",
    "    z = dot(ri,rj)\n",
    "    Rij = rotator(ri,rj)\n",
    "    Rji = rotator(rj,ri)\n",
    "                \n",
    "    qiqj,uiuj = QiQjUiUj(z,only_bb_or_only_bb)\n",
    "\n",
    "    Mij = np.array([[qiqj,    0],\n",
    "                    [   0, uiuj]])\n",
    "\n",
    "    RMRt = Rij @ Mij @ Rji.T\n",
    "\n",
    "#    return I, J, RMRt[0,0], I+npix, J+npix, RMRt[1,1], I, J+npix, RMRt[0,1], J, I+npix, RMRt[1,0] # I+npix, J, RMRt[1,0] # for top triangle\n",
    "    return  (I, J, RMRt[0,0]), (I+npix, J+npix, RMRt[1,1]), (I, J+npix, RMRt[0,1]), (I+npix, J, RMRt[1,0]) # for full\n",
    "#    return  (J, I, RMRt[0,0]), (J+npix, I+npix, RMRt[1,1]), (J+npix, I, RMRt[0,1]), (I+npix, J, RMRt[1,0]) # for lower triangle"
   ]
  },
  {
   "cell_type": "code",
   "execution_count": 17,
   "metadata": {},
   "outputs": [],
   "source": [
    "# https://docs.python.org/3/library/itertools.html#itertools-recipes\n",
    "def nth_combination(iterable, r, index):\n",
    "    \"Equivalent to list(combinations(iterable, r))[index]\"\n",
    "    pool = tuple(iterable)\n",
    "    n = len(pool)\n",
    "    if r < 0 or r > n:\n",
    "        raise ValueError\n",
    "    c = 1\n",
    "    k = min(r, n-r)\n",
    "    for i in range(1, k+1):\n",
    "        c = c * (n - k + i) // i\n",
    "    if index < 0:\n",
    "        index += c\n",
    "    if index < 0 or index >= c:\n",
    "        raise IndexError\n",
    "    result = []\n",
    "    while r:\n",
    "        c, n, r = c*r//n, n-1, r-1\n",
    "        while index >= c:\n",
    "            index -= c\n",
    "            c, n = c*(n-r)//n, n-1\n",
    "        result.append(pool[-1-n])\n",
    "\n",
    "    return tuple(result)"
   ]
  },
  {
   "cell_type": "code",
   "execution_count": 18,
   "metadata": {},
   "outputs": [],
   "source": [
    "def get_ana_cov_ij_list(nside,npix,only_bb_or_only_bb,\n",
    "                        indexes,\n",
    "                        idx,nums,njobs,\n",
    "                        off_or_diag):\n",
    "    assert(off_or_diag in ('off', 'diag'))\n",
    "\n",
    "    if off_or_diag == 'off':\n",
    "        tot = int(npix * (npix - 1) // 2)\n",
    "        g_ij = (nth_combination(indexes, 2, idx+k) for k in range(nums) if idx+k < tot)\n",
    "        g_IJ = (nth_combination(range(npix), 2, idx+k) for k in range(nums) if idx+k < tot)\n",
    "    else:\n",
    "        tot = npix\n",
    "        g_ij = ((indexes[idx+k],)*2 for k in range(nums) if idx+k < tot)\n",
    "        g_IJ = ((range(npix)[idx+k],)*2 for k in range(nums) if idx+k < tot)\n",
    "        \n",
    "    result = [get_ana_cov_ij(nside,npix,only_bb_or_only_bb,i,j,I,J) for (i,j),(I,J) in zip(g_ij,g_IJ)]\n",
    "\n",
    "    ijobs = idx // nums\n",
    "    np.savez_compressed('./nside{:03d}/{:}_ana_cov_{:}_{:}_{:03d}-{:03d}_nisde{:03d}'.format(nside,PREFIX,only_bb_or_only_bb, off_or_diag, ijobs+1, njobs, nside),\n",
    "                        res=result)"
   ]
  },
  {
   "cell_type": "code",
   "execution_count": 19,
   "metadata": {},
   "outputs": [],
   "source": [
    "def get_nums_and_njobs(tot, njobs):\n",
    "    nums = tot // njobs\n",
    "    if tot % njobs != 0:\n",
    "        nums += 1\n",
    "    njobs = tot // nums\n",
    "    if tot % nums != 0:\n",
    "        njobs += 1\n",
    "    return int(nums), int(njobs)"
   ]
  },
  {
   "cell_type": "markdown",
   "metadata": {},
   "source": [
    "## generate matrix in parallel\n",
    "conbime them later"
   ]
  },
  {
   "cell_type": "code",
   "execution_count": 20,
   "metadata": {},
   "outputs": [],
   "source": [
    "target_dir = './nside{:03d}'.format(nside)\n",
    "if not os.path.exists(target_dir):\n",
    "    os.makedirs(target_dir)"
   ]
  },
  {
   "cell_type": "markdown",
   "metadata": {},
   "source": [
    "It takes 1.5 hours w/ 48 cores."
   ]
  },
  {
   "cell_type": "code",
   "execution_count": 21,
   "metadata": {},
   "outputs": [
    {
     "name": "stdout",
     "output_type": "stream",
     "text": [
      "CPU times: user 7.33 s, sys: 5.15 s, total: 12.5 s\n",
      "Wall time: 1h 38min 35s\n"
     ]
    }
   ],
   "source": [
    "%%time\n",
    "for only_bb_or_only_bb in ('only_bb', 'only_ee'):\n",
    "    for off_or_diag, tot in zip(('off', 'diag'),(int(npix*(npix-1)//2), npix)):\n",
    "        nums, njobs = get_nums_and_njobs(tot, Njobs)\n",
    "        parallel = Parallel(njobs, backend='multiprocessing')\n",
    "        parallel(\n",
    "            delayed(get_ana_cov_ij_list)(nside,npix,only_bb_or_only_bb,\n",
    "                                         indexes,\n",
    "                                         idx,nums,njobs,\n",
    "                                         off_or_diag) # arguments\n",
    "                                         for idx in range(0, tot, nums))"
   ]
  },
  {
   "cell_type": "code",
   "execution_count": 22,
   "metadata": {},
   "outputs": [
    {
     "name": "stdout",
     "output_type": "stream",
     "text": [
      "scan_masked_ana_cov_only_bb_diag_001-048_nisde064.npz\n",
      "scan_masked_ana_cov_only_bb_diag_002-048_nisde064.npz\n",
      "scan_masked_ana_cov_only_bb_diag_003-048_nisde064.npz\n",
      "scan_masked_ana_cov_only_bb_diag_004-048_nisde064.npz\n",
      "scan_masked_ana_cov_only_bb_diag_005-048_nisde064.npz\n",
      "scan_masked_ana_cov_only_bb_diag_006-048_nisde064.npz\n",
      "scan_masked_ana_cov_only_bb_diag_007-048_nisde064.npz\n",
      "scan_masked_ana_cov_only_bb_diag_008-048_nisde064.npz\n",
      "scan_masked_ana_cov_only_bb_diag_009-048_nisde064.npz\n",
      "scan_masked_ana_cov_only_bb_diag_010-048_nisde064.npz\n",
      "scan_masked_ana_cov_only_bb_diag_011-048_nisde064.npz\n",
      "scan_masked_ana_cov_only_bb_diag_012-048_nisde064.npz\n",
      "scan_masked_ana_cov_only_bb_diag_013-048_nisde064.npz\n",
      "scan_masked_ana_cov_only_bb_diag_014-048_nisde064.npz\n",
      "scan_masked_ana_cov_only_bb_diag_015-048_nisde064.npz\n",
      "scan_masked_ana_cov_only_bb_diag_016-048_nisde064.npz\n",
      "scan_masked_ana_cov_only_bb_diag_017-048_nisde064.npz\n",
      "scan_masked_ana_cov_only_bb_diag_018-048_nisde064.npz\n",
      "scan_masked_ana_cov_only_bb_diag_019-048_nisde064.npz\n",
      "scan_masked_ana_cov_only_bb_diag_020-048_nisde064.npz\n",
      "scan_masked_ana_cov_only_bb_diag_021-048_nisde064.npz\n",
      "scan_masked_ana_cov_only_bb_diag_022-048_nisde064.npz\n",
      "scan_masked_ana_cov_only_bb_diag_023-048_nisde064.npz\n",
      "scan_masked_ana_cov_only_bb_diag_024-048_nisde064.npz\n",
      "scan_masked_ana_cov_only_bb_diag_025-048_nisde064.npz\n",
      "scan_masked_ana_cov_only_bb_diag_026-048_nisde064.npz\n",
      "scan_masked_ana_cov_only_bb_diag_027-048_nisde064.npz\n",
      "scan_masked_ana_cov_only_bb_diag_028-048_nisde064.npz\n",
      "scan_masked_ana_cov_only_bb_diag_029-048_nisde064.npz\n",
      "scan_masked_ana_cov_only_bb_diag_030-048_nisde064.npz\n",
      "scan_masked_ana_cov_only_bb_diag_031-048_nisde064.npz\n",
      "scan_masked_ana_cov_only_bb_diag_032-048_nisde064.npz\n",
      "scan_masked_ana_cov_only_bb_diag_033-048_nisde064.npz\n",
      "scan_masked_ana_cov_only_bb_diag_034-048_nisde064.npz\n",
      "scan_masked_ana_cov_only_bb_diag_035-048_nisde064.npz\n",
      "scan_masked_ana_cov_only_bb_diag_036-048_nisde064.npz\n",
      "scan_masked_ana_cov_only_bb_diag_037-048_nisde064.npz\n",
      "scan_masked_ana_cov_only_bb_diag_038-048_nisde064.npz\n",
      "scan_masked_ana_cov_only_bb_diag_039-048_nisde064.npz\n",
      "scan_masked_ana_cov_only_bb_diag_040-048_nisde064.npz\n",
      "scan_masked_ana_cov_only_bb_diag_041-048_nisde064.npz\n",
      "scan_masked_ana_cov_only_bb_diag_042-048_nisde064.npz\n",
      "scan_masked_ana_cov_only_bb_diag_043-048_nisde064.npz\n",
      "scan_masked_ana_cov_only_bb_diag_044-048_nisde064.npz\n",
      "scan_masked_ana_cov_only_bb_diag_045-048_nisde064.npz\n",
      "scan_masked_ana_cov_only_bb_diag_046-048_nisde064.npz\n",
      "scan_masked_ana_cov_only_bb_diag_047-048_nisde064.npz\n",
      "scan_masked_ana_cov_only_bb_diag_048-048_nisde064.npz\n",
      "scan_masked_ana_cov_only_bb_off_001-048_nisde064.npz\n",
      "scan_masked_ana_cov_only_bb_off_002-048_nisde064.npz\n",
      "scan_masked_ana_cov_only_bb_off_003-048_nisde064.npz\n",
      "scan_masked_ana_cov_only_bb_off_004-048_nisde064.npz\n",
      "scan_masked_ana_cov_only_bb_off_005-048_nisde064.npz\n",
      "scan_masked_ana_cov_only_bb_off_006-048_nisde064.npz\n",
      "scan_masked_ana_cov_only_bb_off_007-048_nisde064.npz\n",
      "scan_masked_ana_cov_only_bb_off_008-048_nisde064.npz\n",
      "scan_masked_ana_cov_only_bb_off_009-048_nisde064.npz\n",
      "scan_masked_ana_cov_only_bb_off_010-048_nisde064.npz\n",
      "scan_masked_ana_cov_only_bb_off_011-048_nisde064.npz\n",
      "scan_masked_ana_cov_only_bb_off_012-048_nisde064.npz\n",
      "scan_masked_ana_cov_only_bb_off_013-048_nisde064.npz\n",
      "scan_masked_ana_cov_only_bb_off_014-048_nisde064.npz\n",
      "scan_masked_ana_cov_only_bb_off_015-048_nisde064.npz\n",
      "scan_masked_ana_cov_only_bb_off_016-048_nisde064.npz\n",
      "scan_masked_ana_cov_only_bb_off_017-048_nisde064.npz\n",
      "scan_masked_ana_cov_only_bb_off_018-048_nisde064.npz\n",
      "scan_masked_ana_cov_only_bb_off_019-048_nisde064.npz\n",
      "scan_masked_ana_cov_only_bb_off_020-048_nisde064.npz\n",
      "scan_masked_ana_cov_only_bb_off_021-048_nisde064.npz\n",
      "scan_masked_ana_cov_only_bb_off_022-048_nisde064.npz\n",
      "scan_masked_ana_cov_only_bb_off_023-048_nisde064.npz\n",
      "scan_masked_ana_cov_only_bb_off_024-048_nisde064.npz\n",
      "scan_masked_ana_cov_only_bb_off_025-048_nisde064.npz\n",
      "scan_masked_ana_cov_only_bb_off_026-048_nisde064.npz\n",
      "scan_masked_ana_cov_only_bb_off_027-048_nisde064.npz\n",
      "scan_masked_ana_cov_only_bb_off_028-048_nisde064.npz\n",
      "scan_masked_ana_cov_only_bb_off_029-048_nisde064.npz\n",
      "scan_masked_ana_cov_only_bb_off_030-048_nisde064.npz\n",
      "scan_masked_ana_cov_only_bb_off_031-048_nisde064.npz\n",
      "scan_masked_ana_cov_only_bb_off_032-048_nisde064.npz\n",
      "scan_masked_ana_cov_only_bb_off_033-048_nisde064.npz\n",
      "scan_masked_ana_cov_only_bb_off_034-048_nisde064.npz\n",
      "scan_masked_ana_cov_only_bb_off_035-048_nisde064.npz\n",
      "scan_masked_ana_cov_only_bb_off_036-048_nisde064.npz\n",
      "scan_masked_ana_cov_only_bb_off_037-048_nisde064.npz\n",
      "scan_masked_ana_cov_only_bb_off_038-048_nisde064.npz\n",
      "scan_masked_ana_cov_only_bb_off_039-048_nisde064.npz\n",
      "scan_masked_ana_cov_only_bb_off_040-048_nisde064.npz\n",
      "scan_masked_ana_cov_only_bb_off_041-048_nisde064.npz\n",
      "scan_masked_ana_cov_only_bb_off_042-048_nisde064.npz\n",
      "scan_masked_ana_cov_only_bb_off_043-048_nisde064.npz\n",
      "scan_masked_ana_cov_only_bb_off_044-048_nisde064.npz\n",
      "scan_masked_ana_cov_only_bb_off_045-048_nisde064.npz\n",
      "scan_masked_ana_cov_only_bb_off_046-048_nisde064.npz\n",
      "scan_masked_ana_cov_only_bb_off_047-048_nisde064.npz\n",
      "scan_masked_ana_cov_only_bb_off_048-048_nisde064.npz\n",
      "scan_masked_ana_cov_only_ee_diag_001-048_nisde064.npz\n",
      "scan_masked_ana_cov_only_ee_diag_002-048_nisde064.npz\n",
      "scan_masked_ana_cov_only_ee_diag_003-048_nisde064.npz\n",
      "scan_masked_ana_cov_only_ee_diag_004-048_nisde064.npz\n",
      "scan_masked_ana_cov_only_ee_diag_005-048_nisde064.npz\n",
      "scan_masked_ana_cov_only_ee_diag_006-048_nisde064.npz\n",
      "scan_masked_ana_cov_only_ee_diag_007-048_nisde064.npz\n",
      "scan_masked_ana_cov_only_ee_diag_008-048_nisde064.npz\n",
      "scan_masked_ana_cov_only_ee_diag_009-048_nisde064.npz\n",
      "scan_masked_ana_cov_only_ee_diag_010-048_nisde064.npz\n",
      "scan_masked_ana_cov_only_ee_diag_011-048_nisde064.npz\n",
      "scan_masked_ana_cov_only_ee_diag_012-048_nisde064.npz\n",
      "scan_masked_ana_cov_only_ee_diag_013-048_nisde064.npz\n",
      "scan_masked_ana_cov_only_ee_diag_014-048_nisde064.npz\n",
      "scan_masked_ana_cov_only_ee_diag_015-048_nisde064.npz\n",
      "scan_masked_ana_cov_only_ee_diag_016-048_nisde064.npz\n",
      "scan_masked_ana_cov_only_ee_diag_017-048_nisde064.npz\n",
      "scan_masked_ana_cov_only_ee_diag_018-048_nisde064.npz\n",
      "scan_masked_ana_cov_only_ee_diag_019-048_nisde064.npz\n",
      "scan_masked_ana_cov_only_ee_diag_020-048_nisde064.npz\n",
      "scan_masked_ana_cov_only_ee_diag_021-048_nisde064.npz\n",
      "scan_masked_ana_cov_only_ee_diag_022-048_nisde064.npz\n",
      "scan_masked_ana_cov_only_ee_diag_023-048_nisde064.npz\n",
      "scan_masked_ana_cov_only_ee_diag_024-048_nisde064.npz\n",
      "scan_masked_ana_cov_only_ee_diag_025-048_nisde064.npz\n",
      "scan_masked_ana_cov_only_ee_diag_026-048_nisde064.npz\n",
      "scan_masked_ana_cov_only_ee_diag_027-048_nisde064.npz\n",
      "scan_masked_ana_cov_only_ee_diag_028-048_nisde064.npz\n",
      "scan_masked_ana_cov_only_ee_diag_029-048_nisde064.npz\n",
      "scan_masked_ana_cov_only_ee_diag_030-048_nisde064.npz\n",
      "scan_masked_ana_cov_only_ee_diag_031-048_nisde064.npz\n",
      "scan_masked_ana_cov_only_ee_diag_032-048_nisde064.npz\n",
      "scan_masked_ana_cov_only_ee_diag_033-048_nisde064.npz\n",
      "scan_masked_ana_cov_only_ee_diag_034-048_nisde064.npz\n",
      "scan_masked_ana_cov_only_ee_diag_035-048_nisde064.npz\n",
      "scan_masked_ana_cov_only_ee_diag_036-048_nisde064.npz\n",
      "scan_masked_ana_cov_only_ee_diag_037-048_nisde064.npz\n",
      "scan_masked_ana_cov_only_ee_diag_038-048_nisde064.npz\n",
      "scan_masked_ana_cov_only_ee_diag_039-048_nisde064.npz\n",
      "scan_masked_ana_cov_only_ee_diag_040-048_nisde064.npz\n",
      "scan_masked_ana_cov_only_ee_diag_041-048_nisde064.npz\n",
      "scan_masked_ana_cov_only_ee_diag_042-048_nisde064.npz\n",
      "scan_masked_ana_cov_only_ee_diag_043-048_nisde064.npz\n",
      "scan_masked_ana_cov_only_ee_diag_044-048_nisde064.npz\n",
      "scan_masked_ana_cov_only_ee_diag_045-048_nisde064.npz\n",
      "scan_masked_ana_cov_only_ee_diag_046-048_nisde064.npz\n",
      "scan_masked_ana_cov_only_ee_diag_047-048_nisde064.npz\n",
      "scan_masked_ana_cov_only_ee_diag_048-048_nisde064.npz\n",
      "scan_masked_ana_cov_only_ee_off_001-048_nisde064.npz\n",
      "scan_masked_ana_cov_only_ee_off_002-048_nisde064.npz\n",
      "scan_masked_ana_cov_only_ee_off_003-048_nisde064.npz\n",
      "scan_masked_ana_cov_only_ee_off_004-048_nisde064.npz\n",
      "scan_masked_ana_cov_only_ee_off_005-048_nisde064.npz\n",
      "scan_masked_ana_cov_only_ee_off_006-048_nisde064.npz\n",
      "scan_masked_ana_cov_only_ee_off_007-048_nisde064.npz\n",
      "scan_masked_ana_cov_only_ee_off_008-048_nisde064.npz\n",
      "scan_masked_ana_cov_only_ee_off_009-048_nisde064.npz\n",
      "scan_masked_ana_cov_only_ee_off_010-048_nisde064.npz\n",
      "scan_masked_ana_cov_only_ee_off_011-048_nisde064.npz\n",
      "scan_masked_ana_cov_only_ee_off_012-048_nisde064.npz\n",
      "scan_masked_ana_cov_only_ee_off_013-048_nisde064.npz\n",
      "scan_masked_ana_cov_only_ee_off_014-048_nisde064.npz\n",
      "scan_masked_ana_cov_only_ee_off_015-048_nisde064.npz\n",
      "scan_masked_ana_cov_only_ee_off_016-048_nisde064.npz\n",
      "scan_masked_ana_cov_only_ee_off_017-048_nisde064.npz\n",
      "scan_masked_ana_cov_only_ee_off_018-048_nisde064.npz\n",
      "scan_masked_ana_cov_only_ee_off_019-048_nisde064.npz\n",
      "scan_masked_ana_cov_only_ee_off_020-048_nisde064.npz\n",
      "scan_masked_ana_cov_only_ee_off_021-048_nisde064.npz\n",
      "scan_masked_ana_cov_only_ee_off_022-048_nisde064.npz\n",
      "scan_masked_ana_cov_only_ee_off_023-048_nisde064.npz\n",
      "scan_masked_ana_cov_only_ee_off_024-048_nisde064.npz\n",
      "scan_masked_ana_cov_only_ee_off_025-048_nisde064.npz\n",
      "scan_masked_ana_cov_only_ee_off_026-048_nisde064.npz\n",
      "scan_masked_ana_cov_only_ee_off_027-048_nisde064.npz\n",
      "scan_masked_ana_cov_only_ee_off_028-048_nisde064.npz\n",
      "scan_masked_ana_cov_only_ee_off_029-048_nisde064.npz\n",
      "scan_masked_ana_cov_only_ee_off_030-048_nisde064.npz\n",
      "scan_masked_ana_cov_only_ee_off_031-048_nisde064.npz\n",
      "scan_masked_ana_cov_only_ee_off_032-048_nisde064.npz\n",
      "scan_masked_ana_cov_only_ee_off_033-048_nisde064.npz\n",
      "scan_masked_ana_cov_only_ee_off_034-048_nisde064.npz\n",
      "scan_masked_ana_cov_only_ee_off_035-048_nisde064.npz\n",
      "scan_masked_ana_cov_only_ee_off_036-048_nisde064.npz\n",
      "scan_masked_ana_cov_only_ee_off_037-048_nisde064.npz\n",
      "scan_masked_ana_cov_only_ee_off_038-048_nisde064.npz\n",
      "scan_masked_ana_cov_only_ee_off_039-048_nisde064.npz\n",
      "scan_masked_ana_cov_only_ee_off_040-048_nisde064.npz\n",
      "scan_masked_ana_cov_only_ee_off_041-048_nisde064.npz\n",
      "scan_masked_ana_cov_only_ee_off_042-048_nisde064.npz\n",
      "scan_masked_ana_cov_only_ee_off_043-048_nisde064.npz\n",
      "scan_masked_ana_cov_only_ee_off_044-048_nisde064.npz\n",
      "scan_masked_ana_cov_only_ee_off_045-048_nisde064.npz\n",
      "scan_masked_ana_cov_only_ee_off_046-048_nisde064.npz\n",
      "scan_masked_ana_cov_only_ee_off_047-048_nisde064.npz\n",
      "scan_masked_ana_cov_only_ee_off_048-048_nisde064.npz\n"
     ]
    }
   ],
   "source": [
    "!ls ./nside064"
   ]
  },
  {
   "cell_type": "code",
   "execution_count": null,
   "metadata": {},
   "outputs": [],
   "source": []
  }
 ],
 "metadata": {
  "kernelspec": {
   "display_name": "Python 3",
   "language": "python",
   "name": "python3"
  },
  "language_info": {
   "codemirror_mode": {
    "name": "ipython",
    "version": 3
   },
   "file_extension": ".py",
   "mimetype": "text/x-python",
   "name": "python",
   "nbconvert_exporter": "python",
   "pygments_lexer": "ipython3",
   "version": "3.6.9"
  }
 },
 "nbformat": 4,
 "nbformat_minor": 4
}
